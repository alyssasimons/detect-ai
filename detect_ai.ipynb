{
  "nbformat": 4,
  "nbformat_minor": 0,
  "metadata": {
    "colab": {
      "provenance": [],
      "authorship_tag": "ABX9TyM0Q+1ZgmtVCcZXwxGCm8+4",
      "include_colab_link": true
    },
    "kernelspec": {
      "name": "python3",
      "display_name": "Python 3"
    },
    "language_info": {
      "name": "python"
    }
  },
  "cells": [
    {
      "cell_type": "markdown",
      "metadata": {
        "id": "view-in-github",
        "colab_type": "text"
      },
      "source": [
        "<a href=\"https://colab.research.google.com/github/alyssasimons/detect-ai/blob/main/detect_ai.ipynb\" target=\"_parent\"><img src=\"https://colab.research.google.com/assets/colab-badge.svg\" alt=\"Open In Colab\"/></a>"
      ]
    },
    {
      "cell_type": "code",
      "execution_count": 1,
      "metadata": {
        "colab": {
          "base_uri": "https://localhost:8080/"
        },
        "id": "WHVMJWgo_X3Y",
        "outputId": "a6927ebd-35ce-4757-a3b6-9c257bf06710"
      },
      "outputs": [
        {
          "output_type": "stream",
          "name": "stderr",
          "text": [
            "[nltk_data] Downloading package punkt to /root/nltk_data...\n",
            "[nltk_data]   Unzipping tokenizers/punkt.zip.\n",
            "[nltk_data] Downloading package stopwords to /root/nltk_data...\n",
            "[nltk_data]   Unzipping corpora/stopwords.zip.\n",
            "[nltk_data] Downloading package wordnet to /root/nltk_data...\n"
          ]
        }
      ],
      "source": [
        "import pandas as pd\n",
        "import re\n",
        "import nltk\n",
        "import matplotlib.pyplot as plt\n",
        "nltk.download('punkt')\n",
        "nltk.download('stopwords')\n",
        "nltk.download('wordnet')\n",
        "from sklearn.model_selection import train_test_split\n",
        "from sklearn.feature_extraction.text import TfidfVectorizer\n",
        "from sklearn.svm import SVC\n",
        "from sklearn.metrics import accuracy_score\n",
        "from nltk.corpus import stopwords\n",
        "from nltk.tokenize import word_tokenize\n",
        "from nltk.stem import WordNetLemmatizer\n",
        "\n",
        "# load our dataset\n",
        "df = pd.read_csv('daigt_external_dataset.csv')"
      ]
    },
    {
      "cell_type": "code",
      "source": [
        "# check class balance: the model will not be biased if the class is balanced\n",
        "# check how many ai/human essays are in dataset\n",
        "numberOfStudentEssays = df['text'].count()\n",
        "numberOfAiEssays = df['source_text'].count()\n",
        "\n",
        "labels = ['student essays', 'ai essays']\n",
        "sizes = [numberOfStudentEssays, numberOfAiEssays]\n",
        "colors = ['mediumseagreen', 'indianred']\n",
        "plt.figure(figsize=(4, 4))\n",
        "plt.pie(sizes, labels=labels, autopct='%1.1f%%', colors=colors, startangle=140)\n",
        "plt.title('distribution of student and ai essays')\n",
        "plt.axis('equal')\n",
        "plt.show()\n",
        "\n",
        "# balanced!!! coooool!!"
      ],
      "metadata": {
        "colab": {
          "base_uri": "https://localhost:8080/",
          "height": 367
        },
        "id": "-VwMPiQ7JyHd",
        "outputId": "0e608608-c928-4f4a-a69d-81fda6b1ccdf"
      },
      "execution_count": 2,
      "outputs": [
        {
          "output_type": "display_data",
          "data": {
            "text/plain": [
              "<Figure size 400x400 with 1 Axes>"
            ],
            "image/png": "[encoded data removed]"
          },
          "metadata": {}
        }
      ]
    },
    {
      "cell_type": "code",
      "source": [
        "# information about dataset\n",
        "df.head()"
      ],
      "metadata": {
        "colab": {
          "base_uri": "https://localhost:8080/",
          "height": 206
        },
        "id": "CU8nH7J1UhZT",
        "outputId": "b68fdd3d-f847-4a01-fd1d-4d369f2e4262"
      },
      "execution_count": null,
      "outputs": [
        {
          "output_type": "execute_result",
          "data": {
            "text/plain": [
              "             id                                               text  \\\n",
              "0  6060D28C05B6  Some schools in United States ofter classes fr...   \n",
              "1  60623DB5DE7A  Four-day work week, a remarkable idea to conse...   \n",
              "2  607A39D981DE  Students and their families should consider an...   \n",
              "3  60ACDFA1609E  Agree you will never grow if something beyond ...   \n",
              "4  60AE13D3F07B  I think our character traits are formed by inf...   \n",
              "\n",
              "                                        instructions  \\\n",
              "0  \\nTask: Write a persuasive essay on whether or...   \n",
              "1  \\nTask: Research the advantages and disadvanta...   \n",
              "2  \\nTask: \\n\\n1. Talk to your parents before tak...   \n",
              "3  \\nTask: Write an essay discussing the benefits...   \n",
              "4  \\nTask: Research and discuss how character tra...   \n",
              "\n",
              "                                         source_text  \n",
              "0  \\nWhen considering the pros and cons of attend...  \n",
              "1  \\nOne of the primary arguments for implementin...  \n",
              "2  \\nBefore making any decisions about getting in...  \n",
              "3  \\nRalph Waldo Emerson once said, \"Go confident...  \n",
              "4  \\nHuman character traits are shaped by a wide ...  "
            ],
            "text/html": [
              "\n",
              "  <div id=\"df-fc008e68-ef9f-417b-9975-d0a7564fdbdc\" class=\"colab-df-container\">\n",
              "    <div>\n",
              "<style scoped>\n",
              "    .dataframe tbody tr th:only-of-type {\n",
              "        vertical-align: middle;\n",
              "    }\n",
              "\n",
              "    .dataframe tbody tr th {\n",
              "        vertical-align: top;\n",
              "    }\n",
              "\n",
              "    .dataframe thead th {\n",
              "        text-align: right;\n",
              "    }\n",
              "</style>\n",
              "<table border=\"1\" class=\"dataframe\">\n",
              "  <thead>\n",
              "    <tr style=\"text-align: right;\">\n",
              "      <th></th>\n",
              "      <th>id</th>\n",
              "      <th>text</th>\n",
              "      <th>instructions</th>\n",
              "      <th>source_text</th>\n",
              "    </tr>\n",
              "  </thead>\n",
              "  <tbody>\n",
              "    <tr>\n",
              "      <th>0</th>\n",
              "      <td>6060D28C05B6</td>\n",
              "      <td>Some schools in United States ofter classes fr...</td>\n",
              "      <td>\\nTask: Write a persuasive essay on whether or...</td>\n",
              "      <td>\\nWhen considering the pros and cons of attend...</td>\n",
              "    </tr>\n",
              "    <tr>\n",
              "      <th>1</th>\n",
              "      <td>60623DB5DE7A</td>\n",
              "      <td>Four-day work week, a remarkable idea to conse...</td>\n",
              "      <td>\\nTask: Research the advantages and disadvanta...</td>\n",
              "      <td>\\nOne of the primary arguments for implementin...</td>\n",
              "    </tr>\n",
              "    <tr>\n",
              "      <th>2</th>\n",
              "      <td>607A39D981DE</td>\n",
              "      <td>Students and their families should consider an...</td>\n",
              "      <td>\\nTask: \\n\\n1. Talk to your parents before tak...</td>\n",
              "      <td>\\nBefore making any decisions about getting in...</td>\n",
              "    </tr>\n",
              "    <tr>\n",
              "      <th>3</th>\n",
              "      <td>60ACDFA1609E</td>\n",
              "      <td>Agree you will never grow if something beyond ...</td>\n",
              "      <td>\\nTask: Write an essay discussing the benefits...</td>\n",
              "      <td>\\nRalph Waldo Emerson once said, \"Go confident...</td>\n",
              "    </tr>\n",
              "    <tr>\n",
              "      <th>4</th>\n",
              "      <td>60AE13D3F07B</td>\n",
              "      <td>I think our character traits are formed by inf...</td>\n",
              "      <td>\\nTask: Research and discuss how character tra...</td>\n",
              "      <td>\\nHuman character traits are shaped by a wide ...</td>\n",
              "    </tr>\n",
              "  </tbody>\n",
              "</table>\n",
              "</div>\n",
              "    <div class=\"colab-df-buttons\">\n",
              "\n",
              "  <div class=\"colab-df-container\">\n",
              "    <button class=\"colab-df-convert\" onclick=\"convertToInteractive('df-fc008e68-ef9f-417b-9975-d0a7564fdbdc')\"\n",
              "            title=\"Convert this dataframe to an interactive table.\"\n",
              "            style=\"display:none;\">\n",
              "\n",
              "  <svg xmlns=\"http://www.w3.org/2000/svg\" height=\"24px\" viewBox=\"0 -960 960 960\">\n",
              "    <path d=\"M120-120v-720h720v720H120Zm60-500h600v-160H180v160Zm220 220h160v-160H400v160Zm0 220h160v-160H400v160ZM180-400h160v-160H180v160Zm440 0h160v-160H620v160ZM180-180h160v-160H180v160Zm440 0h160v-160H620v160Z\"/>\n",
              "  </svg>\n",
              "    </button>\n",
              "\n",
              "  <style>\n",
              "    .colab-df-container {\n",
              "      display:flex;\n",
              "      gap: 12px;\n",
              "    }\n",
              "\n",
              "    .colab-df-convert {\n",
              "      background-color: #E8F0FE;\n",
              "      border: none;\n",
              "      border-radius: 50%;\n",
              "      cursor: pointer;\n",
              "      display: none;\n",
              "      fill: #1967D2;\n",
              "      height: 32px;\n",
              "      padding: 0 0 0 0;\n",
              "      width: 32px;\n",
              "    }\n",
              "\n",
              "    .colab-df-convert:hover {\n",
              "      background-color: #E2EBFA;\n",
              "      box-shadow: 0px 1px 2px rgba(60, 64, 67, 0.3), 0px 1px 3px 1px rgba(60, 64, 67, 0.15);\n",
              "      fill: #174EA6;\n",
              "    }\n",
              "\n",
              "    .colab-df-buttons div {\n",
              "      margin-bottom: 4px;\n",
              "    }\n",
              "\n",
              "    [theme=dark] .colab-df-convert {\n",
              "      background-color: #3B4455;\n",
              "      fill: #D2E3FC;\n",
              "    }\n",
              "\n",
              "    [theme=dark] .colab-df-convert:hover {\n",
              "      background-color: #434B5C;\n",
              "      box-shadow: 0px 1px 3px 1px rgba(0, 0, 0, 0.15);\n",
              "      filter: drop-shadow(0px 1px 2px rgba(0, 0, 0, 0.3));\n",
              "      fill: #FFFFFF;\n",
              "    }\n",
              "  </style>\n",
              "\n",
              "    <script>\n",
              "      const buttonEl =\n",
              "        document.querySelector('#df-fc008e68-ef9f-417b-9975-d0a7564fdbdc button.colab-df-convert');\n",
              "      buttonEl.style.display =\n",
              "        google.colab.kernel.accessAllowed ? 'block' : 'none';\n",
              "\n",
              "      async function convertToInteractive(key) {\n",
              "        const element = document.querySelector('#df-fc008e68-ef9f-417b-9975-d0a7564fdbdc');\n",
              "        const dataTable =\n",
              "          await google.colab.kernel.invokeFunction('convertToInteractive',\n",
              "                                                    [key], {});\n",
              "        if (!dataTable) return;\n",
              "\n",
              "        const docLinkHtml = 'Like what you see? Visit the ' +\n",
              "          '<a target=\"_blank\" href=https://colab.research.google.com/notebooks/data_table.ipynb>data table notebook</a>'\n",
              "          + ' to learn more about interactive tables.';\n",
              "        element.innerHTML = '';\n",
              "        dataTable['output_type'] = 'display_data';\n",
              "        await google.colab.output.renderOutput(dataTable, element);\n",
              "        const docLink = document.createElement('div');\n",
              "        docLink.innerHTML = docLinkHtml;\n",
              "        element.appendChild(docLink);\n",
              "      }\n",
              "    </script>\n",
              "  </div>\n",
              "\n",
              "\n",
              "<div id=\"df-59092b39-103f-488e-9558-cfe5d5742e8c\">\n",
              "  <button class=\"colab-df-quickchart\" onclick=\"quickchart('df-59092b39-103f-488e-9558-cfe5d5742e8c')\"\n",
              "            title=\"Suggest charts\"\n",
              "            style=\"display:none;\">\n",
              "\n",
              "<svg xmlns=\"http://www.w3.org/2000/svg\" height=\"24px\"viewBox=\"0 0 24 24\"\n",
              "     width=\"24px\">\n",
              "    <g>\n",
              "        <path d=\"M19 3H5c-1.1 0-2 .9-2 2v14c0 1.1.9 2 2 2h14c1.1 0 2-.9 2-2V5c0-1.1-.9-2-2-2zM9 17H7v-7h2v7zm4 0h-2V7h2v10zm4 0h-2v-4h2v4z\"/>\n",
              "    </g>\n",
              "</svg>\n",
              "  </button>\n",
              "\n",
              "<style>\n",
              "  .colab-df-quickchart {\n",
              "      --bg-color: #E8F0FE;\n",
              "      --fill-color: #1967D2;\n",
              "      --hover-bg-color: #E2EBFA;\n",
              "      --hover-fill-color: #174EA6;\n",
              "      --disabled-fill-color: #AAA;\n",
              "      --disabled-bg-color: #DDD;\n",
              "  }\n",
              "\n",
              "  [theme=dark] .colab-df-quickchart {\n",
              "      --bg-color: #3B4455;\n",
              "      --fill-color: #D2E3FC;\n",
              "      --hover-bg-color: #434B5C;\n",
              "      --hover-fill-color: #FFFFFF;\n",
              "      --disabled-bg-color: #3B4455;\n",
              "      --disabled-fill-color: #666;\n",
              "  }\n",
              "\n",
              "  .colab-df-quickchart {\n",
              "    background-color: var(--bg-color);\n",
              "    border: none;\n",
              "    border-radius: 50%;\n",
              "    cursor: pointer;\n",
              "    display: none;\n",
              "    fill: var(--fill-color);\n",
              "    height: 32px;\n",
              "    padding: 0;\n",
              "    width: 32px;\n",
              "  }\n",
              "\n",
              "  .colab-df-quickchart:hover {\n",
              "    background-color: var(--hover-bg-color);\n",
              "    box-shadow: 0 1px 2px rgba(60, 64, 67, 0.3), 0 1px 3px 1px rgba(60, 64, 67, 0.15);\n",
              "    fill: var(--button-hover-fill-color);\n",
              "  }\n",
              "\n",
              "  .colab-df-quickchart-complete:disabled,\n",
              "  .colab-df-quickchart-complete:disabled:hover {\n",
              "    background-color: var(--disabled-bg-color);\n",
              "    fill: var(--disabled-fill-color);\n",
              "    box-shadow: none;\n",
              "  }\n",
              "\n",
              "  .colab-df-spinner {\n",
              "    border: 2px solid var(--fill-color);\n",
              "    border-color: transparent;\n",
              "    border-bottom-color: var(--fill-color);\n",
              "    animation:\n",
              "      spin 1s steps(1) infinite;\n",
              "  }\n",
              "\n",
              "  @keyframes spin {\n",
              "    0% {\n",
              "      border-color: transparent;\n",
              "      border-bottom-color: var(--fill-color);\n",
              "      border-left-color: var(--fill-color);\n",
              "    }\n",
              "    20% {\n",
              "      border-color: transparent;\n",
              "      border-left-color: var(--fill-color);\n",
              "      border-top-color: var(--fill-color);\n",
              "    }\n",
              "    30% {\n",
              "      border-color: transparent;\n",
              "      border-left-color: var(--fill-color);\n",
              "      border-top-color: var(--fill-color);\n",
              "      border-right-color: var(--fill-color);\n",
              "    }\n",
              "    40% {\n",
              "      border-color: transparent;\n",
              "      border-right-color: var(--fill-color);\n",
              "      border-top-color: var(--fill-color);\n",
              "    }\n",
              "    60% {\n",
              "      border-color: transparent;\n",
              "      border-right-color: var(--fill-color);\n",
              "    }\n",
              "    80% {\n",
              "      border-color: transparent;\n",
              "      border-right-color: var(--fill-color);\n",
              "      border-bottom-color: var(--fill-color);\n",
              "    }\n",
              "    90% {\n",
              "      border-color: transparent;\n",
              "      border-bottom-color: var(--fill-color);\n",
              "    }\n",
              "  }\n",
              "</style>\n",
              "\n",
              "  <script>\n",
              "    async function quickchart(key) {\n",
              "      const quickchartButtonEl =\n",
              "        document.querySelector('#' + key + ' button');\n",
              "      quickchartButtonEl.disabled = true;  // To prevent multiple clicks.\n",
              "      quickchartButtonEl.classList.add('colab-df-spinner');\n",
              "      try {\n",
              "        const charts = await google.colab.kernel.invokeFunction(\n",
              "            'suggestCharts', [key], {});\n",
              "      } catch (error) {\n",
              "        console.error('Error during call to suggestCharts:', error);\n",
              "      }\n",
              "      quickchartButtonEl.classList.remove('colab-df-spinner');\n",
              "      quickchartButtonEl.classList.add('colab-df-quickchart-complete');\n",
              "    }\n",
              "    (() => {\n",
              "      let quickchartButtonEl =\n",
              "        document.querySelector('#df-59092b39-103f-488e-9558-cfe5d5742e8c button');\n",
              "      quickchartButtonEl.style.display =\n",
              "        google.colab.kernel.accessAllowed ? 'block' : 'none';\n",
              "    })();\n",
              "  </script>\n",
              "</div>\n",
              "\n",
              "    </div>\n",
              "  </div>\n"
            ],
            "application/vnd.google.colaboratory.intrinsic+json": {
              "type": "dataframe",
              "variable_name": "df",
              "summary": "{\n  \"name\": \"df\",\n  \"rows\": 2421,\n  \"fields\": [\n    {\n      \"column\": \"id\",\n      \"properties\": {\n        \"dtype\": \"string\",\n        \"num_unique_values\": 2421,\n        \"samples\": [\n          \"82F9FDBD6F98\",\n          \"A93072F1F0EC\",\n          \"EC3B982A622A\"\n        ],\n        \"semantic_type\": \"\",\n        \"description\": \"\"\n      }\n    },\n    {\n      \"column\": \"text\",\n      \"properties\": {\n        \"dtype\": \"string\",\n        \"num_unique_values\": 2421,\n        \"samples\": [\n          \"My argument about the 10pm curfew for teenagers statement; is they should have a curfew for teenagers because it can get them out of trouble, and make it home safe and they can get rest for school.\\n\\nExample of staying out of trouble is you can get mistaken at night; and get hurt just by not going home at the right time. Another example a teenager can be at there friends house and if they leave late or outside with there friend, anybody can be outside and would want to hurt them or there friend because it's dark out, but if you have the 10 pm curfew you can leave without worrying about being in trouble. also can have a guardian to pick you up when its late so this scenario would not happen.\\n\\nAnother reason is to get some good rest for school and have lots of energy. If you do not have enough sleep, but can have the 10 pm curfew to help you to get some rest and will also help you concentrate in school. An example for this is a teenager could be outside and they do not have a curfew so the teenager comes home late. And does not get good sleep or no sleep and goes to school tired and can't concentrate.\\n\\nA good counter claim for both is you can just stay home and don't have worry about a curfew or going home really late. because if you are scared to go home late or can't get some rest just stay home. You will be more safe home with a guardian or sibling then outside in the dark and not knowing who is outside. And parents should just be more protective so they don't end up going home late. And they can stay home and sleep earlier and get lots of rest for school.\\n\\nwith both arguments i think the best for teenager is that they should have a curfew just for safety reasons. And no parents should be worried or scared for there kids being outside late because there city council do not have a curfew. And another reason is they can get good sleep for teenagers is very helpful for them so they can have a lot of energy and concentrate in class better and get good grades.\",\n          \"I disagree about what the principal has decide because some student don't like sports or any other activities at school. They are probably don't do that activities because they don't know how to play or do those activities and some activities you have to buy all the things that you need for that activities but they don't have money to buy all the stuff.\\n\\nOther people might fortgot to give the paper that they need for the sports or any kinda of activities and they cant go or play sports just because of that reason and some people dont do a sports because other student will judges them because they might be bad at playing that sports and they will judges them.\\n\\nOther student played sports but scared to play now because she or he might got hurt when he played last time and she or he might got scared because of that reason and people will call him or her weak just because she or he fell or got hurt.\\n\\nNot everyone are good at playing sports and even though they probably know how to play sports they might just be scared to play because they have shyness and people are lazy to do any kind of sports.\\n\\nNot all of the student will follow the principal just because they dont probably know how to play the sports and they are shy to play when people are yeling and staring at them. Not everyone will do the sports just because the principal told them to do any other sports. People will just ignore the principal\\n\\nThey will get mad because if they have low grades they will get kick out of the team just because of the low grades. Other student aren't that good at doing sports but they will probably do better but they are scared to play sports because they see alot of the people who get hurt just because of a sports they dont want to get hurt because of a sports.\\n\\nSome student will not do what the principal say because it's either they dont how to play the sports or they dont wanna play the sports and if they do play sports it's because they got force to play the sports because their parents and they dont want their parents to be mad or sad because they do sports.\\n\\nSome people are scared because of a sports they might get hurt because of that sports.\\n\\nThey watch TV at home and it show how the people who play sports get hurt by playing sports and they are scared when people are staring at them.\\n\\nSome people don't want to do the work for the year book because its boring and some people hates doing books stuff because it's boring and they hate books and some people don't like when they read books.\\n\\nThey do'nt want to do any other activities because it's not their type or they just hate doing all the stuffs. they are probably lazy to do that stuff at school and they just hate doing all that's stuff.       \",\n          \"I do not agree with adding another hour to school, because some of us would like to go home, some people have places to go after school. For example what if a student wants to go pick up his grandma from the airport but her flight gets in while the student is still in school. If school would've ended at the normal time he could've went to pick up his grandma. Even though staying an hour more would help students more, there won't be anytime left for after school activities. in the winter time it gets dark fast and some kids like to go outside and play for a while after school,but if they add that extra half an hour kids would have to get home fast and leave there stuff to go outside for a little bit. There are many bad reason why adding another hour to school is a bad idea but, there are many good ones too like a good reason would be kids can catch up on there missing work, a bad idea is kids go home later then they used to and some parents would not like that. If they do add an hour of school they should open the school at 8:30 instead of 7. If we come at 8 kids would get more sleep and not fall asleep in class with more sleep kids have more energy and with ms are more energy kids are more productive. In my opinion i don't think adding another hour is not so bad, just that no other student would wanna stay another hour. Students could get frustrated because all the work they do at school,and then kids got to go home and study and do there homework. Therefore i disagree with the idea of adding another half an hour.\"\n        ],\n        \"semantic_type\": \"\",\n        \"description\": \"\"\n      }\n    },\n    {\n      \"column\": \"instructions\",\n      \"properties\": {\n        \"dtype\": \"string\",\n        \"num_unique_values\": 2420,\n        \"samples\": [\n          \"\\nTask: \\n\\nResearch the impact of external life events on a person\\u2019s behavior. Explore how an individual\\u2019s upbringing affects their behavior. Analyze the different types of behavior changes that can occur as a result of various life experiences. Investigate methods for individuals to become aware of how their life experiences are impacting them. Study strategies by which people can use the hardships of life to become stronger. Examine the benefits of taking control of one\\u2019s life and making conscious\",\n          \"\\nTask: \\n\\nWrite an essay exploring how first impressions can be changed, using personal examples to support your argument. Explain why having both charisma and personality is important for creating a good first impression. Give examples of different scenarios where the idea of first impressions was challenged.\",\n          \"\\nTask: Research and analyze the impact of technology on human contact and evaluate its effects on people's lives. Develop arguments for both positive and negative outcomes and determine which outweighs the other. Support your opinion with evidence from sources.\"\n        ],\n        \"semantic_type\": \"\",\n        \"description\": \"\"\n      }\n    },\n    {\n      \"column\": \"source_text\",\n      \"properties\": {\n        \"dtype\": \"string\",\n        \"num_unique_values\": 2421,\n        \"samples\": [\n          \"\\n\\nThe argument over whether teenagers should have a 10 pm curfew revolves around the tradeoff between safety and rest. Research has shown a direct correlation between lack of sleep and poor academic performance, risky behavior, depression, and other issues among adolescents. For these reasons, many parents and experts feel there are benefits to a 10 pm curfew, as it sets a framework for teens to get enough rest while still being able to maintain an active lifestyle. \\n\\nOn the other hand, there may be counter-arguments to a 10 pm curfew, such as the fact that teens may simply stay home, rather than engage in activities that contribute to their development and growth. As well, some people may consider a 10 pm curfew as overbearing, potentially giving parents too much control over their children. \\n\\nIn conclusion, while the benefits of a 10 pm curfew should not be overlooked, it\\u2019s important to take into consideration the potential drawbacks that come with it. The goal should be to find a happy medium that provides both safety and adequate rest to teenagers.\",\n          \"\\nWhen it comes to participating in extracurricular activities like sports and yearbook work at school, there are a variety of potential explanations as to why some students may choose to opt out. High levels of stress and anxiety, a lack of access to resources, or a feeling that they don't fit in can all lead to students avoiding extracurriculars. \\n\\nBeing unable to participate in extracurricular activities can have long-term negative effects. These activities often present important opportunities for students to interact with each other and learn important skills like teamwork, cooperation, and communication, all of which can become important tools for long-term success. Without opportunities to learn and practice these skills, students may struggle to function comfortably in both college and the workplace. Additionally, students may miss out on potential college invitations or job offers due to a deficiency in these crucial abilities.\",\n          \"\\nThe thought of extending the school day by 30 minutes can be a difficult one to consider for both students and teachers alike. On one hand, it could be beneficial to dedicate more time for in-depth conversations in the classroom and allow more time for teachers to go over complex concepts. Additionally, it could also give students more opportunity to ask questions and get help from their peers and teachers.\\n\\nHowever, on the other hand, it might be detrimental to students and teachers alike. Having to stay in school for an additional half an hour can tire out both teachers and students, leading to lack of motivation and a decrease in concentration. Also, this could lead to a decrease in extracurricular activities or have to begin them even earlier, thus diminishing an important part of the school day for students.\\n\\nAt the end of the day, extending the school day by 30 minutes can have both its benefits and drawbacks. Before making any solid commitment to this, it is important to consider the opinions of both the teachers and the students, as the ramifications to this decision are far-reaching.\"\n        ],\n        \"semantic_type\": \"\",\n        \"description\": \"\"\n      }\n    }\n  ]\n}"
            }
          },
          "metadata": {},
          "execution_count": 3
        }
      ]
    },
    {
      "cell_type": "code",
      "source": [
        "# create variables for the columns\n",
        "aiEssays = df['source_text']\n",
        "studentEssays = df['text']"
      ],
      "metadata": {
        "id": "E8wnaMEmItCG"
      },
      "execution_count": null,
      "outputs": []
    },
    {
      "cell_type": "code",
      "source": [
        "# preprocessing our essays to clean them from noise (irrelevant data like punctuations, numbers, etc.,)\n",
        "def preprocessingText(text):\n",
        "    # remove symbols, numbers, and make the text lowercase\n",
        "    text = re.sub(r'[^a-zA-Z]', ' ', text).lower()\n",
        "    # tokenize text (every word is now an item in a list)\n",
        "    tokens = word_tokenize(text)\n",
        "    # remove stop words (common words that have no significance)\n",
        "    stop_words = set(stopwords.words('english'))\n",
        "    tokens = [word for word in tokens if word not in stop_words]\n",
        "    # lemmatize words\n",
        "    lemmatizer = WordNetLemmatizer()\n",
        "    tokens = [lemmatizer.lemmatize(word) for word in tokens]\n",
        "    # tokens back into a string\n",
        "    preprocessed_text = ' '.join(tokens)\n",
        "    return preprocessed_text\n",
        "\n",
        "# preprocess our essays\n",
        "aiEssays = aiEssays.apply(preprocessingText)\n",
        "studentEssays = studentEssays.apply(preprocessingText)"
      ],
      "metadata": {
        "id": "jfLlP9kbKliC"
      },
      "execution_count": null,
      "outputs": []
    },
    {
      "cell_type": "code",
      "source": [
        "# split dataset into training & testing sets\n",
        "ai_train, ai_test = train_test_split(aiEssays, test_size=0.2, random_state=42)\n",
        "student_train, student_test = train_test_split(studentEssays, test_size=0.2, random_state=42)\n",
        "\n",
        "X_train = pd.concat([ai_train, student_train], ignore_index=True)\n",
        "X_test = pd.concat([ai_test, student_test], ignore_index=True)\n",
        "y_train = ['AI'] * len(ai_train) + ['STUDENT'] * len(student_train)\n",
        "y_test = ['AI'] * len(ai_test) + ['STUDENT'] * len(student_test)"
      ],
      "metadata": {
        "id": "9SMG03-QMz6K"
      },
      "execution_count": null,
      "outputs": []
    },
    {
      "cell_type": "code",
      "source": [
        "X_train.head()"
      ],
      "metadata": {
        "colab": {
          "base_uri": "https://localhost:8080/"
        },
        "id": "S_A_BNGxNBFU",
        "outputId": "a0ff29b6-eb31-442a-f9b1-dec0fc94d77c"
      },
      "execution_count": null,
      "outputs": [
        {
          "output_type": "execute_result",
          "data": {
            "text/plain": [
              "0    implementation school homework club could bene...\n",
              "1    began journey school tried take advantage reso...\n",
              "2    recently studied inspiring life former british...\n",
              "3    use cell phone classroom become increasingly d...\n",
              "4    strongly believe positive attitude key success...\n",
              "dtype: object"
            ]
          },
          "metadata": {},
          "execution_count": 8
        }
      ]
    },
    {
      "cell_type": "code",
      "source": [
        "X_test.head()"
      ],
      "metadata": {
        "colab": {
          "base_uri": "https://localhost:8080/"
        },
        "id": "NwwZ9237M0vi",
        "outputId": "6a284c5f-7c12-4558-c3cb-7e6dfc07053a"
      },
      "execution_count": null,
      "outputs": [
        {
          "output_type": "execute_result",
          "data": {
            "text/plain": [
              "0    argument whether teenager pm curfew revolves a...\n",
              "1    come participating extracurricular activity li...\n",
              "2    thought extending school day minute difficult ...\n",
              "3    researching effect school program pair older y...\n",
              "4    ralph waldo emerson famously wrote life journe...\n",
              "dtype: object"
            ]
          },
          "metadata": {},
          "execution_count": 7
        }
      ]
    },
    {
      "cell_type": "code",
      "source": [
        "print(y_train)"
      ],
      "metadata": {
        "colab": {
          "base_uri": "https://localhost:8080/"
        },
        "id": "VouAtzzXNGVR",
        "outputId": "7418ad7c-3457-4df0-eb9e-e633f5b01cb9"
      },
      "execution_count": null,
      "outputs": [
        {
          "output_type": "stream",
          "name": "stdout",
          "text": [
            "['AI', 'AI', 'AI', 'AI', 'AI', 'AI', 'AI', 'AI', 'AI', 'AI', 'AI', 'AI', 'AI', 'AI', 'AI', 'AI', 'AI', 'AI', 'AI', 'AI', 'AI', 'AI', 'AI', 'AI', 'AI', 'AI', 'AI', 'AI', 'AI', 'AI', 'AI', 'AI', 'AI', 'AI', 'AI', 'AI', 'AI', 'AI', 'AI', 'AI', 'AI', 'AI', 'AI', 'AI', 'AI', 'AI', 'AI', 'AI', 'AI', 'AI', 'AI', 'AI', 'AI', 'AI', 'AI', 'AI', 'AI', 'AI', 'AI', 'AI', 'AI', 'AI', 'AI', 'AI', 'AI', 'AI', 'AI', 'AI', 'AI', 'AI', 'AI', 'AI', 'AI', 'AI', 'AI', 'AI', 'AI', 'AI', 'AI', 'AI', 'AI', 'AI', 'AI', 'AI', 'AI', 'AI', 'AI', 'AI', 'AI', 'AI', 'AI', 'AI', 'AI', 'AI', 'AI', 'AI', 'AI', 'AI', 'AI', 'AI', 'AI', 'AI', 'AI', 'AI', 'AI', 'AI', 'AI', 'AI', 'AI', 'AI', 'AI', 'AI', 'AI', 'AI', 'AI', 'AI', 'AI', 'AI', 'AI', 'AI', 'AI', 'AI', 'AI', 'AI', 'AI', 'AI', 'AI', 'AI', 'AI', 'AI', 'AI', 'AI', 'AI', 'AI', 'AI', 'AI', 'AI', 'AI', 'AI', 'AI', 'AI', 'AI', 'AI', 'AI', 'AI', 'AI', 'AI', 'AI', 'AI', 'AI', 'AI', 'AI', 'AI', 'AI', 'AI', 'AI', 'AI', 'AI', 'AI', 'AI', 'AI', 'AI', 'AI', 'AI', 'AI', 'AI', 'AI', 'AI', 'AI', 'AI', 'AI', 'AI', 'AI', 'AI', 'AI', 'AI', 'AI', 'AI', 'AI', 'AI', 'AI', 'AI', 'AI', 'AI', 'AI', 'AI', 'AI', 'AI', 'AI', 'AI', 'AI', 'AI', 'AI', 'AI', 'AI', 'AI', 'AI', 'AI', 'AI', 'AI', 'AI', 'AI', 'AI', 'AI', 'AI', 'AI', 'AI', 'AI', 'AI', 'AI', 'AI', 'AI', 'AI', 'AI', 'AI', 'AI', 'AI', 'AI', 'AI', 'AI', 'AI', 'AI', 'AI', 'AI', 'AI', 'AI', 'AI', 'AI', 'AI', 'AI', 'AI', 'AI', 'AI', 'AI', 'AI', 'AI', 'AI', 'AI', 'AI', 'AI', 'AI', 'AI', 'AI', 'AI', 'AI', 'AI', 'AI', 'AI', 'AI', 'AI', 'AI', 'AI', 'AI', 'AI', 'AI', 'AI', 'AI', 'AI', 'AI', 'AI', 'AI', 'AI', 'AI', 'AI', 'AI', 'AI', 'AI', 'AI', 'AI', 'AI', 'AI', 'AI', 'AI', 'AI', 'AI', 'AI', 'AI', 'AI', 'AI', 'AI', 'AI', 'AI', 'AI', 'AI', 'AI', 'AI', 'AI', 'AI', 'AI', 'AI', 'AI', 'AI', 'AI', 'AI', 'AI', 'AI', 'AI', 'AI', 'AI', 'AI', 'AI', 'AI', 'AI', 'AI', 'AI', 'AI', 'AI', 'AI', 'AI', 'AI', 'AI', 'AI', 'AI', 'AI', 'AI', 'AI', 'AI', 'AI', 'AI', 'AI', 'AI', 'AI', 'AI', 'AI', 'AI', 'AI', 'AI', 'AI', 'AI', 'AI', 'AI', 'AI', 'AI', 'AI', 'AI', 'AI', 'AI', 'AI', 'AI', 'AI', 'AI', 'AI', 'AI', 'AI', 'AI', 'AI', 'AI', 'AI', 'AI', 'AI', 'AI', 'AI', 'AI', 'AI', 'AI', 'AI', 'AI', 'AI', 'AI', 'AI', 'AI', 'AI', 'AI', 'AI', 'AI', 'AI', 'AI', 'AI', 'AI', 'AI', 'AI', 'AI', 'AI', 'AI', 'AI', 'AI', 'AI', 'AI', 'AI', 'AI', 'AI', 'AI', 'AI', 'AI', 'AI', 'AI', 'AI', 'AI', 'AI', 'AI', 'AI', 'AI', 'AI', 'AI', 'AI', 'AI', 'AI', 'AI', 'AI', 'AI', 'AI', 'AI', 'AI', 'AI', 'AI', 'AI', 'AI', 'AI', 'AI', 'AI', 'AI', 'AI', 'AI', 'AI', 'AI', 'AI', 'AI', 'AI', 'AI', 'AI', 'AI', 'AI', 'AI', 'AI', 'AI', 'AI', 'AI', 'AI', 'AI', 'AI', 'AI', 'AI', 'AI', 'AI', 'AI', 'AI', 'AI', 'AI', 'AI', 'AI', 'AI', 'AI', 'AI', 'AI', 'AI', 'AI', 'AI', 'AI', 'AI', 'AI', 'AI', 'AI', 'AI', 'AI', 'AI', 'AI', 'AI', 'AI', 'AI', 'AI', 'AI', 'AI', 'AI', 'AI', 'AI', 'AI', 'AI', 'AI', 'AI', 'AI', 'AI', 'AI', 'AI', 'AI', 'AI', 'AI', 'AI', 'AI', 'AI', 'AI', 'AI', 'AI', 'AI', 'AI', 'AI', 'AI', 'AI', 'AI', 'AI', 'AI', 'AI', 'AI', 'AI', 'AI', 'AI', 'AI', 'AI', 'AI', 'AI', 'AI', 'AI', 'AI', 'AI', 'AI', 'AI', 'AI', 'AI', 'AI', 'AI', 'AI', 'AI', 'AI', 'AI', 'AI', 'AI', 'AI', 'AI', 'AI', 'AI', 'AI', 'AI', 'AI', 'AI', 'AI', 'AI', 'AI', 'AI', 'AI', 'AI', 'AI', 'AI', 'AI', 'AI', 'AI', 'AI', 'AI', 'AI', 'AI', 'AI', 'AI', 'AI', 'AI', 'AI', 'AI', 'AI', 'AI', 'AI', 'AI', 'AI', 'AI', 'AI', 'AI', 'AI', 'AI', 'AI', 'AI', 'AI', 'AI', 'AI', 'AI', 'AI', 'AI', 'AI', 'AI', 'AI', 'AI', 'AI', 'AI', 'AI', 'AI', 'AI', 'AI', 'AI', 'AI', 'AI', 'AI', 'AI', 'AI', 'AI', 'AI', 'AI', 'AI', 'AI', 'AI', 'AI', 'AI', 'AI', 'AI', 'AI', 'AI', 'AI', 'AI', 'AI', 'AI', 'AI', 'AI', 'AI', 'AI', 'AI', 'AI', 'AI', 'AI', 'AI', 'AI', 'AI', 'AI', 'AI', 'AI', 'AI', 'AI', 'AI', 'AI', 'AI', 'AI', 'AI', 'AI', 'AI', 'AI', 'AI', 'AI', 'AI', 'AI', 'AI', 'AI', 'AI', 'AI', 'AI', 'AI', 'AI', 'AI', 'AI', 'AI', 'AI', 'AI', 'AI', 'AI', 'AI', 'AI', 'AI', 'AI', 'AI', 'AI', 'AI', 'AI', 'AI', 'AI', 'AI', 'AI', 'AI', 'AI', 'AI', 'AI', 'AI', 'AI', 'AI', 'AI', 'AI', 'AI', 'AI', 'AI', 'AI', 'AI', 'AI', 'AI', 'AI', 'AI', 'AI', 'AI', 'AI', 'AI', 'AI', 'AI', 'AI', 'AI', 'AI', 'AI', 'AI', 'AI', 'AI', 'AI', 'AI', 'AI', 'AI', 'AI', 'AI', 'AI', 'AI', 'AI', 'AI', 'AI', 'AI', 'AI', 'AI', 'AI', 'AI', 'AI', 'AI', 'AI', 'AI', 'AI', 'AI', 'AI', 'AI', 'AI', 'AI', 'AI', 'AI', 'AI', 'AI', 'AI', 'AI', 'AI', 'AI', 'AI', 'AI', 'AI', 'AI', 'AI', 'AI', 'AI', 'AI', 'AI', 'AI', 'AI', 'AI', 'AI', 'AI', 'AI', 'AI', 'AI', 'AI', 'AI', 'AI', 'AI', 'AI', 'AI', 'AI', 'AI', 'AI', 'AI', 'AI', 'AI', 'AI', 'AI', 'AI', 'AI', 'AI', 'AI', 'AI', 'AI', 'AI', 'AI', 'AI', 'AI', 'AI', 'AI', 'AI', 'AI', 'AI', 'AI', 'AI', 'AI', 'AI', 'AI', 'AI', 'AI', 'AI', 'AI', 'AI', 'AI', 'AI', 'AI', 'AI', 'AI', 'AI', 'AI', 'AI', 'AI', 'AI', 'AI', 'AI', 'AI', 'AI', 'AI', 'AI', 'AI', 'AI', 'AI', 'AI', 'AI', 'AI', 'AI', 'AI', 'AI', 'AI', 'AI', 'AI', 'AI', 'AI', 'AI', 'AI', 'AI', 'AI', 'AI', 'AI', 'AI', 'AI', 'AI', 'AI', 'AI', 'AI', 'AI', 'AI', 'AI', 'AI', 'AI', 'AI', 'AI', 'AI', 'AI', 'AI', 'AI', 'AI', 'AI', 'AI', 'AI', 'AI', 'AI', 'AI', 'AI', 'AI', 'AI', 'AI', 'AI', 'AI', 'AI', 'AI', 'AI', 'AI', 'AI', 'AI', 'AI', 'AI', 'AI', 'AI', 'AI', 'AI', 'AI', 'AI', 'AI', 'AI', 'AI', 'AI', 'AI', 'AI', 'AI', 'AI', 'AI', 'AI', 'AI', 'AI', 'AI', 'AI', 'AI', 'AI', 'AI', 'AI', 'AI', 'AI', 'AI', 'AI', 'AI', 'AI', 'AI', 'AI', 'AI', 'AI', 'AI', 'AI', 'AI', 'AI', 'AI', 'AI', 'AI', 'AI', 'AI', 'AI', 'AI', 'AI', 'AI', 'AI', 'AI', 'AI', 'AI', 'AI', 'AI', 'AI', 'AI', 'AI', 'AI', 'AI', 'AI', 'AI', 'AI', 'AI', 'AI', 'AI', 'AI', 'AI', 'AI', 'AI', 'AI', 'AI', 'AI', 'AI', 'AI', 'AI', 'AI', 'AI', 'AI', 'AI', 'AI', 'AI', 'AI', 'AI', 'AI', 'AI', 'AI', 'AI', 'AI', 'AI', 'AI', 'AI', 'AI', 'AI', 'AI', 'AI', 'AI', 'AI', 'AI', 'AI', 'AI', 'AI', 'AI', 'AI', 'AI', 'AI', 'AI', 'AI', 'AI', 'AI', 'AI', 'AI', 'AI', 'AI', 'AI', 'AI', 'AI', 'AI', 'AI', 'AI', 'AI', 'AI', 'AI', 'AI', 'AI', 'AI', 'AI', 'AI', 'AI', 'AI', 'AI', 'AI', 'AI', 'AI', 'AI', 'AI', 'AI', 'AI', 'AI', 'AI', 'AI', 'AI', 'AI', 'AI', 'AI', 'AI', 'AI', 'AI', 'AI', 'AI', 'AI', 'AI', 'AI', 'AI', 'AI', 'AI', 'AI', 'AI', 'AI', 'AI', 'AI', 'AI', 'AI', 'AI', 'AI', 'AI', 'AI', 'AI', 'AI', 'AI', 'AI', 'AI', 'AI', 'AI', 'AI', 'AI', 'AI', 'AI', 'AI', 'AI', 'AI', 'AI', 'AI', 'AI', 'AI', 'AI', 'AI', 'AI', 'AI', 'AI', 'AI', 'AI', 'AI', 'AI', 'AI', 'AI', 'AI', 'AI', 'AI', 'AI', 'AI', 'AI', 'AI', 'AI', 'AI', 'AI', 'AI', 'AI', 'AI', 'AI', 'AI', 'AI', 'AI', 'AI', 'AI', 'AI', 'AI', 'AI', 'AI', 'AI', 'AI', 'AI', 'AI', 'AI', 'AI', 'AI', 'AI', 'AI', 'AI', 'AI', 'AI', 'AI', 'AI', 'AI', 'AI', 'AI', 'AI', 'AI', 'AI', 'AI', 'AI', 'AI', 'AI', 'AI', 'AI', 'AI', 'AI', 'AI', 'AI', 'AI', 'AI', 'AI', 'AI', 'AI', 'AI', 'AI', 'AI', 'AI', 'AI', 'AI', 'AI', 'AI', 'AI', 'AI', 'AI', 'AI', 'AI', 'AI', 'AI', 'AI', 'AI', 'AI', 'AI', 'AI', 'AI', 'AI', 'AI', 'AI', 'AI', 'AI', 'AI', 'AI', 'AI', 'AI', 'AI', 'AI', 'AI', 'AI', 'AI', 'AI', 'AI', 'AI', 'AI', 'AI', 'AI', 'AI', 'AI', 'AI', 'AI', 'AI', 'AI', 'AI', 'AI', 'AI', 'AI', 'AI', 'AI', 'AI', 'AI', 'AI', 'AI', 'AI', 'AI', 'AI', 'AI', 'AI', 'AI', 'AI', 'AI', 'AI', 'AI', 'AI', 'AI', 'AI', 'AI', 'AI', 'AI', 'AI', 'AI', 'AI', 'AI', 'AI', 'AI', 'AI', 'AI', 'AI', 'AI', 'AI', 'AI', 'AI', 'AI', 'AI', 'AI', 'AI', 'AI', 'AI', 'AI', 'AI', 'AI', 'AI', 'AI', 'AI', 'AI', 'AI', 'AI', 'AI', 'AI', 'AI', 'AI', 'AI', 'AI', 'AI', 'AI', 'AI', 'AI', 'AI', 'AI', 'AI', 'AI', 'AI', 'AI', 'AI', 'AI', 'AI', 'AI', 'AI', 'AI', 'AI', 'AI', 'AI', 'AI', 'AI', 'AI', 'AI', 'AI', 'AI', 'AI', 'AI', 'AI', 'AI', 'AI', 'AI', 'AI', 'AI', 'AI', 'AI', 'AI', 'AI', 'AI', 'AI', 'AI', 'AI', 'AI', 'AI', 'AI', 'AI', 'AI', 'AI', 'AI', 'AI', 'AI', 'AI', 'AI', 'AI', 'AI', 'AI', 'AI', 'AI', 'AI', 'AI', 'AI', 'AI', 'AI', 'AI', 'AI', 'AI', 'AI', 'AI', 'AI', 'AI', 'AI', 'AI', 'AI', 'AI', 'AI', 'AI', 'AI', 'AI', 'AI', 'AI', 'AI', 'AI', 'AI', 'AI', 'AI', 'AI', 'AI', 'AI', 'AI', 'AI', 'AI', 'AI', 'AI', 'AI', 'AI', 'AI', 'AI', 'AI', 'AI', 'AI', 'AI', 'AI', 'AI', 'AI', 'AI', 'AI', 'AI', 'AI', 'AI', 'AI', 'AI', 'AI', 'AI', 'AI', 'AI', 'AI', 'AI', 'AI', 'AI', 'AI', 'AI', 'AI', 'AI', 'AI', 'AI', 'AI', 'AI', 'AI', 'AI', 'AI', 'AI', 'AI', 'AI', 'AI', 'AI', 'AI', 'AI', 'AI', 'AI', 'AI', 'AI', 'AI', 'AI', 'AI', 'AI', 'AI', 'AI', 'AI', 'AI', 'AI', 'AI', 'AI', 'AI', 'AI', 'AI', 'AI', 'AI', 'AI', 'AI', 'AI', 'AI', 'AI', 'AI', 'AI', 'AI', 'AI', 'AI', 'AI', 'AI', 'AI', 'AI', 'AI', 'AI', 'AI', 'AI', 'AI', 'AI', 'AI', 'AI', 'AI', 'AI', 'AI', 'AI', 'AI', 'AI', 'AI', 'AI', 'AI', 'AI', 'AI', 'AI', 'AI', 'AI', 'AI', 'AI', 'AI', 'AI', 'AI', 'AI', 'AI', 'AI', 'AI', 'AI', 'AI', 'AI', 'AI', 'AI', 'AI', 'AI', 'AI', 'AI', 'AI', 'AI', 'AI', 'AI', 'AI', 'AI', 'AI', 'AI', 'AI', 'AI', 'AI', 'AI', 'AI', 'AI', 'AI', 'AI', 'AI', 'AI', 'AI', 'AI', 'AI', 'AI', 'AI', 'AI', 'AI', 'AI', 'AI', 'AI', 'AI', 'AI', 'AI', 'AI', 'AI', 'AI', 'AI', 'AI', 'AI', 'AI', 'AI', 'AI', 'AI', 'AI', 'AI', 'AI', 'AI', 'AI', 'AI', 'AI', 'AI', 'AI', 'AI', 'AI', 'AI', 'AI', 'AI', 'AI', 'AI', 'AI', 'AI', 'AI', 'AI', 'AI', 'AI', 'AI', 'AI', 'AI', 'AI', 'AI', 'AI', 'AI', 'AI', 'AI', 'AI', 'AI', 'AI', 'AI', 'AI', 'AI', 'AI', 'AI', 'AI', 'AI', 'AI', 'AI', 'AI', 'AI', 'AI', 'AI', 'AI', 'AI', 'AI', 'AI', 'AI', 'AI', 'AI', 'AI', 'AI', 'AI', 'AI', 'AI', 'AI', 'AI', 'AI', 'AI', 'AI', 'AI', 'AI', 'AI', 'AI', 'AI', 'AI', 'AI', 'AI', 'AI', 'AI', 'AI', 'AI', 'AI', 'AI', 'AI', 'AI', 'AI', 'AI', 'AI', 'AI', 'AI', 'AI', 'AI', 'AI', 'AI', 'AI', 'AI', 'AI', 'AI', 'AI', 'AI', 'AI', 'AI', 'AI', 'AI', 'AI', 'AI', 'AI', 'AI', 'AI', 'AI', 'AI', 'AI', 'AI', 'AI', 'AI', 'AI', 'AI', 'AI', 'AI', 'AI', 'AI', 'AI', 'AI', 'AI', 'AI', 'AI', 'AI', 'AI', 'AI', 'AI', 'AI', 'AI', 'AI', 'AI', 'AI', 'AI', 'AI', 'AI', 'AI', 'AI', 'AI', 'AI', 'AI', 'AI', 'AI', 'AI', 'AI', 'AI', 'AI', 'AI', 'AI', 'AI', 'AI', 'AI', 'AI', 'AI', 'AI', 'AI', 'AI', 'AI', 'AI', 'AI', 'AI', 'AI', 'AI', 'AI', 'AI', 'AI', 'AI', 'AI', 'AI', 'AI', 'AI', 'AI', 'AI', 'AI', 'AI', 'AI', 'AI', 'AI', 'AI', 'AI', 'AI', 'AI', 'AI', 'AI', 'AI', 'AI', 'AI', 'AI', 'AI', 'AI', 'AI', 'AI', 'AI', 'AI', 'AI', 'AI', 'AI', 'AI', 'AI', 'AI', 'AI', 'AI', 'AI', 'AI', 'AI', 'AI', 'AI', 'AI', 'AI', 'AI', 'AI', 'AI', 'AI', 'AI', 'AI', 'AI', 'AI', 'AI', 'AI', 'AI', 'AI', 'AI', 'AI', 'AI', 'AI', 'AI', 'AI', 'AI', 'AI', 'AI', 'AI', 'AI', 'AI', 'AI', 'AI', 'AI', 'AI', 'AI', 'AI', 'AI', 'AI', 'AI', 'AI', 'AI', 'AI', 'AI', 'AI', 'AI', 'AI', 'AI', 'AI', 'AI', 'AI', 'AI', 'AI', 'AI', 'AI', 'AI', 'AI', 'AI', 'AI', 'AI', 'AI', 'AI', 'AI', 'AI', 'AI', 'AI', 'AI', 'AI', 'AI', 'AI', 'AI', 'AI', 'AI', 'AI', 'AI', 'AI', 'AI', 'AI', 'AI', 'AI', 'AI', 'AI', 'AI', 'AI', 'AI', 'AI', 'AI', 'AI', 'AI', 'AI', 'AI', 'AI', 'AI', 'AI', 'AI', 'AI', 'AI', 'AI', 'AI', 'AI', 'AI', 'AI', 'AI', 'AI', 'AI', 'AI', 'AI', 'AI', 'AI', 'AI', 'AI', 'AI', 'AI', 'AI', 'AI', 'AI', 'AI', 'AI', 'AI', 'AI', 'AI', 'AI', 'AI', 'AI', 'AI', 'AI', 'AI', 'AI', 'AI', 'AI', 'AI', 'AI', 'AI', 'AI', 'AI', 'AI', 'AI', 'AI', 'AI', 'AI', 'AI', 'AI', 'AI', 'AI', 'AI', 'AI', 'AI', 'AI', 'AI', 'AI', 'AI', 'AI', 'AI', 'AI', 'AI', 'AI', 'AI', 'AI', 'AI', 'AI', 'AI', 'AI', 'AI', 'AI', 'AI', 'AI', 'AI', 'AI', 'AI', 'AI', 'AI', 'AI', 'AI', 'AI', 'AI', 'AI', 'AI', 'AI', 'AI', 'AI', 'AI', 'AI', 'AI', 'AI', 'AI', 'AI', 'AI', 'AI', 'AI', 'AI', 'AI', 'AI', 'AI', 'AI', 'AI', 'AI', 'AI', 'AI', 'AI', 'AI', 'AI', 'AI', 'AI', 'AI', 'AI', 'AI', 'AI', 'AI', 'AI', 'AI', 'AI', 'AI', 'AI', 'AI', 'AI', 'AI', 'AI', 'AI', 'AI', 'AI', 'AI', 'AI', 'AI', 'AI', 'AI', 'AI', 'AI', 'AI', 'AI', 'AI', 'AI', 'AI', 'AI', 'AI', 'AI', 'AI', 'AI', 'AI', 'AI', 'AI', 'AI', 'AI', 'AI', 'AI', 'AI', 'AI', 'AI', 'AI', 'AI', 'AI', 'AI', 'AI', 'AI', 'AI', 'AI', 'AI', 'AI', 'AI', 'AI', 'AI', 'AI', 'AI', 'AI', 'AI', 'AI', 'AI', 'AI', 'AI', 'AI', 'AI', 'AI', 'AI', 'AI', 'AI', 'AI', 'AI', 'AI', 'AI', 'AI', 'AI', 'AI', 'AI', 'AI', 'AI', 'STUDENT', 'STUDENT', 'STUDENT', 'STUDENT', 'STUDENT', 'STUDENT', 'STUDENT', 'STUDENT', 'STUDENT', 'STUDENT', 'STUDENT', 'STUDENT', 'STUDENT', 'STUDENT', 'STUDENT', 'STUDENT', 'STUDENT', 'STUDENT', 'STUDENT', 'STUDENT', 'STUDENT', 'STUDENT', 'STUDENT', 'STUDENT', 'STUDENT', 'STUDENT', 'STUDENT', 'STUDENT', 'STUDENT', 'STUDENT', 'STUDENT', 'STUDENT', 'STUDENT', 'STUDENT', 'STUDENT', 'STUDENT', 'STUDENT', 'STUDENT', 'STUDENT', 'STUDENT', 'STUDENT', 'STUDENT', 'STUDENT', 'STUDENT', 'STUDENT', 'STUDENT', 'STUDENT', 'STUDENT', 'STUDENT', 'STUDENT', 'STUDENT', 'STUDENT', 'STUDENT', 'STUDENT', 'STUDENT', 'STUDENT', 'STUDENT', 'STUDENT', 'STUDENT', 'STUDENT', 'STUDENT', 'STUDENT', 'STUDENT', 'STUDENT', 'STUDENT', 'STUDENT', 'STUDENT', 'STUDENT', 'STUDENT', 'STUDENT', 'STUDENT', 'STUDENT', 'STUDENT', 'STUDENT', 'STUDENT', 'STUDENT', 'STUDENT', 'STUDENT', 'STUDENT', 'STUDENT', 'STUDENT', 'STUDENT', 'STUDENT', 'STUDENT', 'STUDENT', 'STUDENT', 'STUDENT', 'STUDENT', 'STUDENT', 'STUDENT', 'STUDENT', 'STUDENT', 'STUDENT', 'STUDENT', 'STUDENT', 'STUDENT', 'STUDENT', 'STUDENT', 'STUDENT', 'STUDENT', 'STUDENT', 'STUDENT', 'STUDENT', 'STUDENT', 'STUDENT', 'STUDENT', 'STUDENT', 'STUDENT', 'STUDENT', 'STUDENT', 'STUDENT', 'STUDENT', 'STUDENT', 'STUDENT', 'STUDENT', 'STUDENT', 'STUDENT', 'STUDENT', 'STUDENT', 'STUDENT', 'STUDENT', 'STUDENT', 'STUDENT', 'STUDENT', 'STUDENT', 'STUDENT', 'STUDENT', 'STUDENT', 'STUDENT', 'STUDENT', 'STUDENT', 'STUDENT', 'STUDENT', 'STUDENT', 'STUDENT', 'STUDENT', 'STUDENT', 'STUDENT', 'STUDENT', 'STUDENT', 'STUDENT', 'STUDENT', 'STUDENT', 'STUDENT', 'STUDENT', 'STUDENT', 'STUDENT', 'STUDENT', 'STUDENT', 'STUDENT', 'STUDENT', 'STUDENT', 'STUDENT', 'STUDENT', 'STUDENT', 'STUDENT', 'STUDENT', 'STUDENT', 'STUDENT', 'STUDENT', 'STUDENT', 'STUDENT', 'STUDENT', 'STUDENT', 'STUDENT', 'STUDENT', 'STUDENT', 'STUDENT', 'STUDENT', 'STUDENT', 'STUDENT', 'STUDENT', 'STUDENT', 'STUDENT', 'STUDENT', 'STUDENT', 'STUDENT', 'STUDENT', 'STUDENT', 'STUDENT', 'STUDENT', 'STUDENT', 'STUDENT', 'STUDENT', 'STUDENT', 'STUDENT', 'STUDENT', 'STUDENT', 'STUDENT', 'STUDENT', 'STUDENT', 'STUDENT', 'STUDENT', 'STUDENT', 'STUDENT', 'STUDENT', 'STUDENT', 'STUDENT', 'STUDENT', 'STUDENT', 'STUDENT', 'STUDENT', 'STUDENT', 'STUDENT', 'STUDENT', 'STUDENT', 'STUDENT', 'STUDENT', 'STUDENT', 'STUDENT', 'STUDENT', 'STUDENT', 'STUDENT', 'STUDENT', 'STUDENT', 'STUDENT', 'STUDENT', 'STUDENT', 'STUDENT', 'STUDENT', 'STUDENT', 'STUDENT', 'STUDENT', 'STUDENT', 'STUDENT', 'STUDENT', 'STUDENT', 'STUDENT', 'STUDENT', 'STUDENT', 'STUDENT', 'STUDENT', 'STUDENT', 'STUDENT', 'STUDENT', 'STUDENT', 'STUDENT', 'STUDENT', 'STUDENT', 'STUDENT', 'STUDENT', 'STUDENT', 'STUDENT', 'STUDENT', 'STUDENT', 'STUDENT', 'STUDENT', 'STUDENT', 'STUDENT', 'STUDENT', 'STUDENT', 'STUDENT', 'STUDENT', 'STUDENT', 'STUDENT', 'STUDENT', 'STUDENT', 'STUDENT', 'STUDENT', 'STUDENT', 'STUDENT', 'STUDENT', 'STUDENT', 'STUDENT', 'STUDENT', 'STUDENT', 'STUDENT', 'STUDENT', 'STUDENT', 'STUDENT', 'STUDENT', 'STUDENT', 'STUDENT', 'STUDENT', 'STUDENT', 'STUDENT', 'STUDENT', 'STUDENT', 'STUDENT', 'STUDENT', 'STUDENT', 'STUDENT', 'STUDENT', 'STUDENT', 'STUDENT', 'STUDENT', 'STUDENT', 'STUDENT', 'STUDENT', 'STUDENT', 'STUDENT', 'STUDENT', 'STUDENT', 'STUDENT', 'STUDENT', 'STUDENT', 'STUDENT', 'STUDENT', 'STUDENT', 'STUDENT', 'STUDENT', 'STUDENT', 'STUDENT', 'STUDENT', 'STUDENT', 'STUDENT', 'STUDENT', 'STUDENT', 'STUDENT', 'STUDENT', 'STUDENT', 'STUDENT', 'STUDENT', 'STUDENT', 'STUDENT', 'STUDENT', 'STUDENT', 'STUDENT', 'STUDENT', 'STUDENT', 'STUDENT', 'STUDENT', 'STUDENT', 'STUDENT', 'STUDENT', 'STUDENT', 'STUDENT', 'STUDENT', 'STUDENT', 'STUDENT', 'STUDENT', 'STUDENT', 'STUDENT', 'STUDENT', 'STUDENT', 'STUDENT', 'STUDENT', 'STUDENT', 'STUDENT', 'STUDENT', 'STUDENT', 'STUDENT', 'STUDENT', 'STUDENT', 'STUDENT', 'STUDENT', 'STUDENT', 'STUDENT', 'STUDENT', 'STUDENT', 'STUDENT', 'STUDENT', 'STUDENT', 'STUDENT', 'STUDENT', 'STUDENT', 'STUDENT', 'STUDENT', 'STUDENT', 'STUDENT', 'STUDENT', 'STUDENT', 'STUDENT', 'STUDENT', 'STUDENT', 'STUDENT', 'STUDENT', 'STUDENT', 'STUDENT', 'STUDENT', 'STUDENT', 'STUDENT', 'STUDENT', 'STUDENT', 'STUDENT', 'STUDENT', 'STUDENT', 'STUDENT', 'STUDENT', 'STUDENT', 'STUDENT', 'STUDENT', 'STUDENT', 'STUDENT', 'STUDENT', 'STUDENT', 'STUDENT', 'STUDENT', 'STUDENT', 'STUDENT', 'STUDENT', 'STUDENT', 'STUDENT', 'STUDENT', 'STUDENT', 'STUDENT', 'STUDENT', 'STUDENT', 'STUDENT', 'STUDENT', 'STUDENT', 'STUDENT', 'STUDENT', 'STUDENT', 'STUDENT', 'STUDENT', 'STUDENT', 'STUDENT', 'STUDENT', 'STUDENT', 'STUDENT', 'STUDENT', 'STUDENT', 'STUDENT', 'STUDENT', 'STUDENT', 'STUDENT', 'STUDENT', 'STUDENT', 'STUDENT', 'STUDENT', 'STUDENT', 'STUDENT', 'STUDENT', 'STUDENT', 'STUDENT', 'STUDENT', 'STUDENT', 'STUDENT', 'STUDENT', 'STUDENT', 'STUDENT', 'STUDENT', 'STUDENT', 'STUDENT', 'STUDENT', 'STUDENT', 'STUDENT', 'STUDENT', 'STUDENT', 'STUDENT', 'STUDENT', 'STUDENT', 'STUDENT', 'STUDENT', 'STUDENT', 'STUDENT', 'STUDENT', 'STUDENT', 'STUDENT', 'STUDENT', 'STUDENT', 'STUDENT', 'STUDENT', 'STUDENT', 'STUDENT', 'STUDENT', 'STUDENT', 'STUDENT', 'STUDENT', 'STUDENT', 'STUDENT', 'STUDENT', 'STUDENT', 'STUDENT', 'STUDENT', 'STUDENT', 'STUDENT', 'STUDENT', 'STUDENT', 'STUDENT', 'STUDENT', 'STUDENT', 'STUDENT', 'STUDENT', 'STUDENT', 'STUDENT', 'STUDENT', 'STUDENT', 'STUDENT', 'STUDENT', 'STUDENT', 'STUDENT', 'STUDENT', 'STUDENT', 'STUDENT', 'STUDENT', 'STUDENT', 'STUDENT', 'STUDENT', 'STUDENT', 'STUDENT', 'STUDENT', 'STUDENT', 'STUDENT', 'STUDENT', 'STUDENT', 'STUDENT', 'STUDENT', 'STUDENT', 'STUDENT', 'STUDENT', 'STUDENT', 'STUDENT', 'STUDENT', 'STUDENT', 'STUDENT', 'STUDENT', 'STUDENT', 'STUDENT', 'STUDENT', 'STUDENT', 'STUDENT', 'STUDENT', 'STUDENT', 'STUDENT', 'STUDENT', 'STUDENT', 'STUDENT', 'STUDENT', 'STUDENT', 'STUDENT', 'STUDENT', 'STUDENT', 'STUDENT', 'STUDENT', 'STUDENT', 'STUDENT', 'STUDENT', 'STUDENT', 'STUDENT', 'STUDENT', 'STUDENT', 'STUDENT', 'STUDENT', 'STUDENT', 'STUDENT', 'STUDENT', 'STUDENT', 'STUDENT', 'STUDENT', 'STUDENT', 'STUDENT', 'STUDENT', 'STUDENT', 'STUDENT', 'STUDENT', 'STUDENT', 'STUDENT', 'STUDENT', 'STUDENT', 'STUDENT', 'STUDENT', 'STUDENT', 'STUDENT', 'STUDENT', 'STUDENT', 'STUDENT', 'STUDENT', 'STUDENT', 'STUDENT', 'STUDENT', 'STUDENT', 'STUDENT', 'STUDENT', 'STUDENT', 'STUDENT', 'STUDENT', 'STUDENT', 'STUDENT', 'STUDENT', 'STUDENT', 'STUDENT', 'STUDENT', 'STUDENT', 'STUDENT', 'STUDENT', 'STUDENT', 'STUDENT', 'STUDENT', 'STUDENT', 'STUDENT', 'STUDENT', 'STUDENT', 'STUDENT', 'STUDENT', 'STUDENT', 'STUDENT', 'STUDENT', 'STUDENT', 'STUDENT', 'STUDENT', 'STUDENT', 'STUDENT', 'STUDENT', 'STUDENT', 'STUDENT', 'STUDENT', 'STUDENT', 'STUDENT', 'STUDENT', 'STUDENT', 'STUDENT', 'STUDENT', 'STUDENT', 'STUDENT', 'STUDENT', 'STUDENT', 'STUDENT', 'STUDENT', 'STUDENT', 'STUDENT', 'STUDENT', 'STUDENT', 'STUDENT', 'STUDENT', 'STUDENT', 'STUDENT', 'STUDENT', 'STUDENT', 'STUDENT', 'STUDENT', 'STUDENT', 'STUDENT', 'STUDENT', 'STUDENT', 'STUDENT', 'STUDENT', 'STUDENT', 'STUDENT', 'STUDENT', 'STUDENT', 'STUDENT', 'STUDENT', 'STUDENT', 'STUDENT', 'STUDENT', 'STUDENT', 'STUDENT', 'STUDENT', 'STUDENT', 'STUDENT', 'STUDENT', 'STUDENT', 'STUDENT', 'STUDENT', 'STUDENT', 'STUDENT', 'STUDENT', 'STUDENT', 'STUDENT', 'STUDENT', 'STUDENT', 'STUDENT', 'STUDENT', 'STUDENT', 'STUDENT', 'STUDENT', 'STUDENT', 'STUDENT', 'STUDENT', 'STUDENT', 'STUDENT', 'STUDENT', 'STUDENT', 'STUDENT', 'STUDENT', 'STUDENT', 'STUDENT', 'STUDENT', 'STUDENT', 'STUDENT', 'STUDENT', 'STUDENT', 'STUDENT', 'STUDENT', 'STUDENT', 'STUDENT', 'STUDENT', 'STUDENT', 'STUDENT', 'STUDENT', 'STUDENT', 'STUDENT', 'STUDENT', 'STUDENT', 'STUDENT', 'STUDENT', 'STUDENT', 'STUDENT', 'STUDENT', 'STUDENT', 'STUDENT', 'STUDENT', 'STUDENT', 'STUDENT', 'STUDENT', 'STUDENT', 'STUDENT', 'STUDENT', 'STUDENT', 'STUDENT', 'STUDENT', 'STUDENT', 'STUDENT', 'STUDENT', 'STUDENT', 'STUDENT', 'STUDENT', 'STUDENT', 'STUDENT', 'STUDENT', 'STUDENT', 'STUDENT', 'STUDENT', 'STUDENT', 'STUDENT', 'STUDENT', 'STUDENT', 'STUDENT', 'STUDENT', 'STUDENT', 'STUDENT', 'STUDENT', 'STUDENT', 'STUDENT', 'STUDENT', 'STUDENT', 'STUDENT', 'STUDENT', 'STUDENT', 'STUDENT', 'STUDENT', 'STUDENT', 'STUDENT', 'STUDENT', 'STUDENT', 'STUDENT', 'STUDENT', 'STUDENT', 'STUDENT', 'STUDENT', 'STUDENT', 'STUDENT', 'STUDENT', 'STUDENT', 'STUDENT', 'STUDENT', 'STUDENT', 'STUDENT', 'STUDENT', 'STUDENT', 'STUDENT', 'STUDENT', 'STUDENT', 'STUDENT', 'STUDENT', 'STUDENT', 'STUDENT', 'STUDENT', 'STUDENT', 'STUDENT', 'STUDENT', 'STUDENT', 'STUDENT', 'STUDENT', 'STUDENT', 'STUDENT', 'STUDENT', 'STUDENT', 'STUDENT', 'STUDENT', 'STUDENT', 'STUDENT', 'STUDENT', 'STUDENT', 'STUDENT', 'STUDENT', 'STUDENT', 'STUDENT', 'STUDENT', 'STUDENT', 'STUDENT', 'STUDENT', 'STUDENT', 'STUDENT', 'STUDENT', 'STUDENT', 'STUDENT', 'STUDENT', 'STUDENT', 'STUDENT', 'STUDENT', 'STUDENT', 'STUDENT', 'STUDENT', 'STUDENT', 'STUDENT', 'STUDENT', 'STUDENT', 'STUDENT', 'STUDENT', 'STUDENT', 'STUDENT', 'STUDENT', 'STUDENT', 'STUDENT', 'STUDENT', 'STUDENT', 'STUDENT', 'STUDENT', 'STUDENT', 'STUDENT', 'STUDENT', 'STUDENT', 'STUDENT', 'STUDENT', 'STUDENT', 'STUDENT', 'STUDENT', 'STUDENT', 'STUDENT', 'STUDENT', 'STUDENT', 'STUDENT', 'STUDENT', 'STUDENT', 'STUDENT', 'STUDENT', 'STUDENT', 'STUDENT', 'STUDENT', 'STUDENT', 'STUDENT', 'STUDENT', 'STUDENT', 'STUDENT', 'STUDENT', 'STUDENT', 'STUDENT', 'STUDENT', 'STUDENT', 'STUDENT', 'STUDENT', 'STUDENT', 'STUDENT', 'STUDENT', 'STUDENT', 'STUDENT', 'STUDENT', 'STUDENT', 'STUDENT', 'STUDENT', 'STUDENT', 'STUDENT', 'STUDENT', 'STUDENT', 'STUDENT', 'STUDENT', 'STUDENT', 'STUDENT', 'STUDENT', 'STUDENT', 'STUDENT', 'STUDENT', 'STUDENT', 'STUDENT', 'STUDENT', 'STUDENT', 'STUDENT', 'STUDENT', 'STUDENT', 'STUDENT', 'STUDENT', 'STUDENT', 'STUDENT', 'STUDENT', 'STUDENT', 'STUDENT', 'STUDENT', 'STUDENT', 'STUDENT', 'STUDENT', 'STUDENT', 'STUDENT', 'STUDENT', 'STUDENT', 'STUDENT', 'STUDENT', 'STUDENT', 'STUDENT', 'STUDENT', 'STUDENT', 'STUDENT', 'STUDENT', 'STUDENT', 'STUDENT', 'STUDENT', 'STUDENT', 'STUDENT', 'STUDENT', 'STUDENT', 'STUDENT', 'STUDENT', 'STUDENT', 'STUDENT', 'STUDENT', 'STUDENT', 'STUDENT', 'STUDENT', 'STUDENT', 'STUDENT', 'STUDENT', 'STUDENT', 'STUDENT', 'STUDENT', 'STUDENT', 'STUDENT', 'STUDENT', 'STUDENT', 'STUDENT', 'STUDENT', 'STUDENT', 'STUDENT', 'STUDENT', 'STUDENT', 'STUDENT', 'STUDENT', 'STUDENT', 'STUDENT', 'STUDENT', 'STUDENT', 'STUDENT', 'STUDENT', 'STUDENT', 'STUDENT', 'STUDENT', 'STUDENT', 'STUDENT', 'STUDENT', 'STUDENT', 'STUDENT', 'STUDENT', 'STUDENT', 'STUDENT', 'STUDENT', 'STUDENT', 'STUDENT', 'STUDENT', 'STUDENT', 'STUDENT', 'STUDENT', 'STUDENT', 'STUDENT', 'STUDENT', 'STUDENT', 'STUDENT', 'STUDENT', 'STUDENT', 'STUDENT', 'STUDENT', 'STUDENT', 'STUDENT', 'STUDENT', 'STUDENT', 'STUDENT', 'STUDENT', 'STUDENT', 'STUDENT', 'STUDENT', 'STUDENT', 'STUDENT', 'STUDENT', 'STUDENT', 'STUDENT', 'STUDENT', 'STUDENT', 'STUDENT', 'STUDENT', 'STUDENT', 'STUDENT', 'STUDENT', 'STUDENT', 'STUDENT', 'STUDENT', 'STUDENT', 'STUDENT', 'STUDENT', 'STUDENT', 'STUDENT', 'STUDENT', 'STUDENT', 'STUDENT', 'STUDENT', 'STUDENT', 'STUDENT', 'STUDENT', 'STUDENT', 'STUDENT', 'STUDENT', 'STUDENT', 'STUDENT', 'STUDENT', 'STUDENT', 'STUDENT', 'STUDENT', 'STUDENT', 'STUDENT', 'STUDENT', 'STUDENT', 'STUDENT', 'STUDENT', 'STUDENT', 'STUDENT', 'STUDENT', 'STUDENT', 'STUDENT', 'STUDENT', 'STUDENT', 'STUDENT', 'STUDENT', 'STUDENT', 'STUDENT', 'STUDENT', 'STUDENT', 'STUDENT', 'STUDENT', 'STUDENT', 'STUDENT', 'STUDENT', 'STUDENT', 'STUDENT', 'STUDENT', 'STUDENT', 'STUDENT', 'STUDENT', 'STUDENT', 'STUDENT', 'STUDENT', 'STUDENT', 'STUDENT', 'STUDENT', 'STUDENT', 'STUDENT', 'STUDENT', 'STUDENT', 'STUDENT', 'STUDENT', 'STUDENT', 'STUDENT', 'STUDENT', 'STUDENT', 'STUDENT', 'STUDENT', 'STUDENT', 'STUDENT', 'STUDENT', 'STUDENT', 'STUDENT', 'STUDENT', 'STUDENT', 'STUDENT', 'STUDENT', 'STUDENT', 'STUDENT', 'STUDENT', 'STUDENT', 'STUDENT', 'STUDENT', 'STUDENT', 'STUDENT', 'STUDENT', 'STUDENT', 'STUDENT', 'STUDENT', 'STUDENT', 'STUDENT', 'STUDENT', 'STUDENT', 'STUDENT', 'STUDENT', 'STUDENT', 'STUDENT', 'STUDENT', 'STUDENT', 'STUDENT', 'STUDENT', 'STUDENT', 'STUDENT', 'STUDENT', 'STUDENT', 'STUDENT', 'STUDENT', 'STUDENT', 'STUDENT', 'STUDENT', 'STUDENT', 'STUDENT', 'STUDENT', 'STUDENT', 'STUDENT', 'STUDENT', 'STUDENT', 'STUDENT', 'STUDENT', 'STUDENT', 'STUDENT', 'STUDENT', 'STUDENT', 'STUDENT', 'STUDENT', 'STUDENT', 'STUDENT', 'STUDENT', 'STUDENT', 'STUDENT', 'STUDENT', 'STUDENT', 'STUDENT', 'STUDENT', 'STUDENT', 'STUDENT', 'STUDENT', 'STUDENT', 'STUDENT', 'STUDENT', 'STUDENT', 'STUDENT', 'STUDENT', 'STUDENT', 'STUDENT', 'STUDENT', 'STUDENT', 'STUDENT', 'STUDENT', 'STUDENT', 'STUDENT', 'STUDENT', 'STUDENT', 'STUDENT', 'STUDENT', 'STUDENT', 'STUDENT', 'STUDENT', 'STUDENT', 'STUDENT', 'STUDENT', 'STUDENT', 'STUDENT', 'STUDENT', 'STUDENT', 'STUDENT', 'STUDENT', 'STUDENT', 'STUDENT', 'STUDENT', 'STUDENT', 'STUDENT', 'STUDENT', 'STUDENT', 'STUDENT', 'STUDENT', 'STUDENT', 'STUDENT', 'STUDENT', 'STUDENT', 'STUDENT', 'STUDENT', 'STUDENT', 'STUDENT', 'STUDENT', 'STUDENT', 'STUDENT', 'STUDENT', 'STUDENT', 'STUDENT', 'STUDENT', 'STUDENT', 'STUDENT', 'STUDENT', 'STUDENT', 'STUDENT', 'STUDENT', 'STUDENT', 'STUDENT', 'STUDENT', 'STUDENT', 'STUDENT', 'STUDENT', 'STUDENT', 'STUDENT', 'STUDENT', 'STUDENT', 'STUDENT', 'STUDENT', 'STUDENT', 'STUDENT', 'STUDENT', 'STUDENT', 'STUDENT', 'STUDENT', 'STUDENT', 'STUDENT', 'STUDENT', 'STUDENT', 'STUDENT', 'STUDENT', 'STUDENT', 'STUDENT', 'STUDENT', 'STUDENT', 'STUDENT', 'STUDENT', 'STUDENT', 'STUDENT', 'STUDENT', 'STUDENT', 'STUDENT', 'STUDENT', 'STUDENT', 'STUDENT', 'STUDENT', 'STUDENT', 'STUDENT', 'STUDENT', 'STUDENT', 'STUDENT', 'STUDENT', 'STUDENT', 'STUDENT', 'STUDENT', 'STUDENT', 'STUDENT', 'STUDENT', 'STUDENT', 'STUDENT', 'STUDENT', 'STUDENT', 'STUDENT', 'STUDENT', 'STUDENT', 'STUDENT', 'STUDENT', 'STUDENT', 'STUDENT', 'STUDENT', 'STUDENT', 'STUDENT', 'STUDENT', 'STUDENT', 'STUDENT', 'STUDENT', 'STUDENT', 'STUDENT', 'STUDENT', 'STUDENT', 'STUDENT', 'STUDENT', 'STUDENT', 'STUDENT', 'STUDENT', 'STUDENT', 'STUDENT', 'STUDENT', 'STUDENT', 'STUDENT', 'STUDENT', 'STUDENT', 'STUDENT', 'STUDENT', 'STUDENT', 'STUDENT', 'STUDENT', 'STUDENT', 'STUDENT', 'STUDENT', 'STUDENT', 'STUDENT', 'STUDENT', 'STUDENT', 'STUDENT', 'STUDENT', 'STUDENT', 'STUDENT', 'STUDENT', 'STUDENT', 'STUDENT', 'STUDENT', 'STUDENT', 'STUDENT', 'STUDENT', 'STUDENT', 'STUDENT', 'STUDENT', 'STUDENT', 'STUDENT', 'STUDENT', 'STUDENT', 'STUDENT', 'STUDENT', 'STUDENT', 'STUDENT', 'STUDENT', 'STUDENT', 'STUDENT', 'STUDENT', 'STUDENT', 'STUDENT', 'STUDENT', 'STUDENT', 'STUDENT', 'STUDENT', 'STUDENT', 'STUDENT', 'STUDENT', 'STUDENT', 'STUDENT', 'STUDENT', 'STUDENT', 'STUDENT', 'STUDENT', 'STUDENT', 'STUDENT', 'STUDENT', 'STUDENT', 'STUDENT', 'STUDENT', 'STUDENT', 'STUDENT', 'STUDENT', 'STUDENT', 'STUDENT', 'STUDENT', 'STUDENT', 'STUDENT', 'STUDENT', 'STUDENT', 'STUDENT', 'STUDENT', 'STUDENT', 'STUDENT', 'STUDENT', 'STUDENT', 'STUDENT', 'STUDENT', 'STUDENT', 'STUDENT', 'STUDENT', 'STUDENT', 'STUDENT', 'STUDENT', 'STUDENT', 'STUDENT', 'STUDENT', 'STUDENT', 'STUDENT', 'STUDENT', 'STUDENT', 'STUDENT', 'STUDENT', 'STUDENT', 'STUDENT', 'STUDENT', 'STUDENT', 'STUDENT', 'STUDENT', 'STUDENT', 'STUDENT', 'STUDENT', 'STUDENT', 'STUDENT', 'STUDENT', 'STUDENT', 'STUDENT', 'STUDENT', 'STUDENT', 'STUDENT', 'STUDENT', 'STUDENT', 'STUDENT', 'STUDENT', 'STUDENT', 'STUDENT', 'STUDENT', 'STUDENT', 'STUDENT', 'STUDENT', 'STUDENT', 'STUDENT', 'STUDENT', 'STUDENT', 'STUDENT', 'STUDENT', 'STUDENT', 'STUDENT', 'STUDENT', 'STUDENT', 'STUDENT', 'STUDENT', 'STUDENT', 'STUDENT', 'STUDENT', 'STUDENT', 'STUDENT', 'STUDENT', 'STUDENT', 'STUDENT', 'STUDENT', 'STUDENT', 'STUDENT', 'STUDENT', 'STUDENT', 'STUDENT', 'STUDENT', 'STUDENT', 'STUDENT', 'STUDENT', 'STUDENT', 'STUDENT', 'STUDENT', 'STUDENT', 'STUDENT', 'STUDENT', 'STUDENT', 'STUDENT', 'STUDENT', 'STUDENT', 'STUDENT', 'STUDENT', 'STUDENT', 'STUDENT', 'STUDENT', 'STUDENT', 'STUDENT', 'STUDENT', 'STUDENT', 'STUDENT', 'STUDENT', 'STUDENT', 'STUDENT', 'STUDENT', 'STUDENT', 'STUDENT', 'STUDENT', 'STUDENT', 'STUDENT', 'STUDENT', 'STUDENT', 'STUDENT', 'STUDENT', 'STUDENT', 'STUDENT', 'STUDENT', 'STUDENT', 'STUDENT', 'STUDENT', 'STUDENT', 'STUDENT', 'STUDENT', 'STUDENT', 'STUDENT', 'STUDENT', 'STUDENT', 'STUDENT', 'STUDENT', 'STUDENT', 'STUDENT', 'STUDENT', 'STUDENT', 'STUDENT', 'STUDENT', 'STUDENT', 'STUDENT', 'STUDENT', 'STUDENT', 'STUDENT', 'STUDENT', 'STUDENT', 'STUDENT', 'STUDENT', 'STUDENT', 'STUDENT', 'STUDENT', 'STUDENT', 'STUDENT', 'STUDENT', 'STUDENT', 'STUDENT', 'STUDENT', 'STUDENT', 'STUDENT', 'STUDENT', 'STUDENT', 'STUDENT', 'STUDENT', 'STUDENT', 'STUDENT', 'STUDENT', 'STUDENT', 'STUDENT', 'STUDENT', 'STUDENT', 'STUDENT', 'STUDENT', 'STUDENT', 'STUDENT', 'STUDENT', 'STUDENT', 'STUDENT', 'STUDENT', 'STUDENT', 'STUDENT', 'STUDENT', 'STUDENT', 'STUDENT', 'STUDENT', 'STUDENT', 'STUDENT', 'STUDENT', 'STUDENT', 'STUDENT', 'STUDENT', 'STUDENT', 'STUDENT', 'STUDENT', 'STUDENT', 'STUDENT', 'STUDENT', 'STUDENT', 'STUDENT', 'STUDENT', 'STUDENT', 'STUDENT', 'STUDENT', 'STUDENT', 'STUDENT', 'STUDENT', 'STUDENT', 'STUDENT', 'STUDENT', 'STUDENT', 'STUDENT', 'STUDENT', 'STUDENT', 'STUDENT', 'STUDENT', 'STUDENT', 'STUDENT', 'STUDENT', 'STUDENT', 'STUDENT', 'STUDENT', 'STUDENT', 'STUDENT', 'STUDENT', 'STUDENT', 'STUDENT', 'STUDENT', 'STUDENT', 'STUDENT', 'STUDENT', 'STUDENT', 'STUDENT', 'STUDENT', 'STUDENT', 'STUDENT', 'STUDENT', 'STUDENT', 'STUDENT', 'STUDENT', 'STUDENT', 'STUDENT', 'STUDENT', 'STUDENT', 'STUDENT', 'STUDENT', 'STUDENT', 'STUDENT', 'STUDENT', 'STUDENT', 'STUDENT', 'STUDENT', 'STUDENT', 'STUDENT', 'STUDENT', 'STUDENT', 'STUDENT', 'STUDENT', 'STUDENT', 'STUDENT', 'STUDENT', 'STUDENT', 'STUDENT', 'STUDENT', 'STUDENT', 'STUDENT', 'STUDENT', 'STUDENT', 'STUDENT', 'STUDENT', 'STUDENT', 'STUDENT', 'STUDENT', 'STUDENT', 'STUDENT', 'STUDENT', 'STUDENT', 'STUDENT', 'STUDENT', 'STUDENT', 'STUDENT', 'STUDENT', 'STUDENT', 'STUDENT', 'STUDENT', 'STUDENT', 'STUDENT', 'STUDENT', 'STUDENT', 'STUDENT', 'STUDENT', 'STUDENT', 'STUDENT', 'STUDENT', 'STUDENT', 'STUDENT', 'STUDENT', 'STUDENT', 'STUDENT', 'STUDENT', 'STUDENT', 'STUDENT', 'STUDENT', 'STUDENT', 'STUDENT', 'STUDENT', 'STUDENT', 'STUDENT', 'STUDENT', 'STUDENT', 'STUDENT', 'STUDENT', 'STUDENT', 'STUDENT', 'STUDENT', 'STUDENT', 'STUDENT', 'STUDENT', 'STUDENT', 'STUDENT', 'STUDENT', 'STUDENT', 'STUDENT', 'STUDENT', 'STUDENT', 'STUDENT', 'STUDENT', 'STUDENT', 'STUDENT', 'STUDENT', 'STUDENT', 'STUDENT', 'STUDENT', 'STUDENT', 'STUDENT', 'STUDENT', 'STUDENT', 'STUDENT', 'STUDENT', 'STUDENT', 'STUDENT', 'STUDENT', 'STUDENT', 'STUDENT', 'STUDENT', 'STUDENT', 'STUDENT', 'STUDENT', 'STUDENT', 'STUDENT', 'STUDENT', 'STUDENT', 'STUDENT', 'STUDENT', 'STUDENT', 'STUDENT', 'STUDENT', 'STUDENT', 'STUDENT', 'STUDENT', 'STUDENT', 'STUDENT', 'STUDENT', 'STUDENT', 'STUDENT', 'STUDENT', 'STUDENT', 'STUDENT', 'STUDENT', 'STUDENT', 'STUDENT', 'STUDENT', 'STUDENT', 'STUDENT', 'STUDENT', 'STUDENT', 'STUDENT', 'STUDENT', 'STUDENT', 'STUDENT', 'STUDENT', 'STUDENT', 'STUDENT', 'STUDENT', 'STUDENT', 'STUDENT', 'STUDENT', 'STUDENT', 'STUDENT', 'STUDENT', 'STUDENT', 'STUDENT', 'STUDENT', 'STUDENT', 'STUDENT', 'STUDENT', 'STUDENT', 'STUDENT', 'STUDENT', 'STUDENT', 'STUDENT', 'STUDENT', 'STUDENT', 'STUDENT', 'STUDENT', 'STUDENT', 'STUDENT', 'STUDENT', 'STUDENT', 'STUDENT', 'STUDENT', 'STUDENT', 'STUDENT', 'STUDENT', 'STUDENT', 'STUDENT', 'STUDENT', 'STUDENT', 'STUDENT', 'STUDENT', 'STUDENT', 'STUDENT', 'STUDENT', 'STUDENT', 'STUDENT', 'STUDENT', 'STUDENT', 'STUDENT', 'STUDENT', 'STUDENT', 'STUDENT', 'STUDENT', 'STUDENT', 'STUDENT', 'STUDENT', 'STUDENT', 'STUDENT', 'STUDENT', 'STUDENT', 'STUDENT', 'STUDENT', 'STUDENT', 'STUDENT', 'STUDENT', 'STUDENT', 'STUDENT', 'STUDENT', 'STUDENT', 'STUDENT', 'STUDENT', 'STUDENT', 'STUDENT', 'STUDENT', 'STUDENT', 'STUDENT', 'STUDENT', 'STUDENT', 'STUDENT', 'STUDENT', 'STUDENT', 'STUDENT', 'STUDENT', 'STUDENT', 'STUDENT', 'STUDENT', 'STUDENT', 'STUDENT', 'STUDENT', 'STUDENT', 'STUDENT', 'STUDENT', 'STUDENT', 'STUDENT', 'STUDENT', 'STUDENT', 'STUDENT', 'STUDENT', 'STUDENT', 'STUDENT', 'STUDENT', 'STUDENT', 'STUDENT', 'STUDENT', 'STUDENT', 'STUDENT', 'STUDENT', 'STUDENT', 'STUDENT', 'STUDENT', 'STUDENT', 'STUDENT', 'STUDENT', 'STUDENT', 'STUDENT', 'STUDENT', 'STUDENT', 'STUDENT', 'STUDENT', 'STUDENT', 'STUDENT', 'STUDENT', 'STUDENT', 'STUDENT', 'STUDENT', 'STUDENT', 'STUDENT', 'STUDENT', 'STUDENT', 'STUDENT', 'STUDENT', 'STUDENT', 'STUDENT', 'STUDENT', 'STUDENT', 'STUDENT', 'STUDENT', 'STUDENT', 'STUDENT', 'STUDENT', 'STUDENT', 'STUDENT', 'STUDENT', 'STUDENT', 'STUDENT', 'STUDENT', 'STUDENT', 'STUDENT', 'STUDENT', 'STUDENT', 'STUDENT', 'STUDENT', 'STUDENT', 'STUDENT', 'STUDENT', 'STUDENT', 'STUDENT', 'STUDENT', 'STUDENT', 'STUDENT', 'STUDENT', 'STUDENT', 'STUDENT', 'STUDENT', 'STUDENT', 'STUDENT', 'STUDENT', 'STUDENT', 'STUDENT', 'STUDENT', 'STUDENT', 'STUDENT', 'STUDENT', 'STUDENT', 'STUDENT', 'STUDENT', 'STUDENT', 'STUDENT', 'STUDENT', 'STUDENT', 'STUDENT', 'STUDENT', 'STUDENT', 'STUDENT', 'STUDENT', 'STUDENT', 'STUDENT', 'STUDENT', 'STUDENT', 'STUDENT', 'STUDENT', 'STUDENT', 'STUDENT', 'STUDENT', 'STUDENT', 'STUDENT', 'STUDENT', 'STUDENT', 'STUDENT', 'STUDENT', 'STUDENT', 'STUDENT', 'STUDENT', 'STUDENT', 'STUDENT', 'STUDENT', 'STUDENT', 'STUDENT', 'STUDENT', 'STUDENT', 'STUDENT', 'STUDENT', 'STUDENT', 'STUDENT', 'STUDENT', 'STUDENT', 'STUDENT', 'STUDENT', 'STUDENT', 'STUDENT', 'STUDENT', 'STUDENT', 'STUDENT', 'STUDENT', 'STUDENT', 'STUDENT', 'STUDENT']\n"
          ]
        }
      ]
    },
    {
      "cell_type": "code",
      "source": [
        "print(y_test)"
      ],
      "metadata": {
        "colab": {
          "base_uri": "https://localhost:8080/"
        },
        "id": "CnHUDnVjNdpj",
        "outputId": "c118c5c8-eabb-41cf-ff77-1a238d6e6fb0"
      },
      "execution_count": null,
      "outputs": [
        {
          "output_type": "stream",
          "name": "stdout",
          "text": [
            "['AI', 'AI', 'AI', 'AI', 'AI', 'AI', 'AI', 'AI', 'AI', 'AI', 'AI', 'AI', 'AI', 'AI', 'AI', 'AI', 'AI', 'AI', 'AI', 'AI', 'AI', 'AI', 'AI', 'AI', 'AI', 'AI', 'AI', 'AI', 'AI', 'AI', 'AI', 'AI', 'AI', 'AI', 'AI', 'AI', 'AI', 'AI', 'AI', 'AI', 'AI', 'AI', 'AI', 'AI', 'AI', 'AI', 'AI', 'AI', 'AI', 'AI', 'AI', 'AI', 'AI', 'AI', 'AI', 'AI', 'AI', 'AI', 'AI', 'AI', 'AI', 'AI', 'AI', 'AI', 'AI', 'AI', 'AI', 'AI', 'AI', 'AI', 'AI', 'AI', 'AI', 'AI', 'AI', 'AI', 'AI', 'AI', 'AI', 'AI', 'AI', 'AI', 'AI', 'AI', 'AI', 'AI', 'AI', 'AI', 'AI', 'AI', 'AI', 'AI', 'AI', 'AI', 'AI', 'AI', 'AI', 'AI', 'AI', 'AI', 'AI', 'AI', 'AI', 'AI', 'AI', 'AI', 'AI', 'AI', 'AI', 'AI', 'AI', 'AI', 'AI', 'AI', 'AI', 'AI', 'AI', 'AI', 'AI', 'AI', 'AI', 'AI', 'AI', 'AI', 'AI', 'AI', 'AI', 'AI', 'AI', 'AI', 'AI', 'AI', 'AI', 'AI', 'AI', 'AI', 'AI', 'AI', 'AI', 'AI', 'AI', 'AI', 'AI', 'AI', 'AI', 'AI', 'AI', 'AI', 'AI', 'AI', 'AI', 'AI', 'AI', 'AI', 'AI', 'AI', 'AI', 'AI', 'AI', 'AI', 'AI', 'AI', 'AI', 'AI', 'AI', 'AI', 'AI', 'AI', 'AI', 'AI', 'AI', 'AI', 'AI', 'AI', 'AI', 'AI', 'AI', 'AI', 'AI', 'AI', 'AI', 'AI', 'AI', 'AI', 'AI', 'AI', 'AI', 'AI', 'AI', 'AI', 'AI', 'AI', 'AI', 'AI', 'AI', 'AI', 'AI', 'AI', 'AI', 'AI', 'AI', 'AI', 'AI', 'AI', 'AI', 'AI', 'AI', 'AI', 'AI', 'AI', 'AI', 'AI', 'AI', 'AI', 'AI', 'AI', 'AI', 'AI', 'AI', 'AI', 'AI', 'AI', 'AI', 'AI', 'AI', 'AI', 'AI', 'AI', 'AI', 'AI', 'AI', 'AI', 'AI', 'AI', 'AI', 'AI', 'AI', 'AI', 'AI', 'AI', 'AI', 'AI', 'AI', 'AI', 'AI', 'AI', 'AI', 'AI', 'AI', 'AI', 'AI', 'AI', 'AI', 'AI', 'AI', 'AI', 'AI', 'AI', 'AI', 'AI', 'AI', 'AI', 'AI', 'AI', 'AI', 'AI', 'AI', 'AI', 'AI', 'AI', 'AI', 'AI', 'AI', 'AI', 'AI', 'AI', 'AI', 'AI', 'AI', 'AI', 'AI', 'AI', 'AI', 'AI', 'AI', 'AI', 'AI', 'AI', 'AI', 'AI', 'AI', 'AI', 'AI', 'AI', 'AI', 'AI', 'AI', 'AI', 'AI', 'AI', 'AI', 'AI', 'AI', 'AI', 'AI', 'AI', 'AI', 'AI', 'AI', 'AI', 'AI', 'AI', 'AI', 'AI', 'AI', 'AI', 'AI', 'AI', 'AI', 'AI', 'AI', 'AI', 'AI', 'AI', 'AI', 'AI', 'AI', 'AI', 'AI', 'AI', 'AI', 'AI', 'AI', 'AI', 'AI', 'AI', 'AI', 'AI', 'AI', 'AI', 'AI', 'AI', 'AI', 'AI', 'AI', 'AI', 'AI', 'AI', 'AI', 'AI', 'AI', 'AI', 'AI', 'AI', 'AI', 'AI', 'AI', 'AI', 'AI', 'AI', 'AI', 'AI', 'AI', 'AI', 'AI', 'AI', 'AI', 'AI', 'AI', 'AI', 'AI', 'AI', 'AI', 'AI', 'AI', 'AI', 'AI', 'AI', 'AI', 'AI', 'AI', 'AI', 'AI', 'AI', 'AI', 'AI', 'AI', 'AI', 'AI', 'AI', 'AI', 'AI', 'AI', 'AI', 'AI', 'AI', 'AI', 'AI', 'AI', 'AI', 'AI', 'AI', 'AI', 'AI', 'AI', 'AI', 'AI', 'AI', 'AI', 'AI', 'AI', 'AI', 'AI', 'AI', 'AI', 'AI', 'AI', 'AI', 'AI', 'AI', 'AI', 'AI', 'AI', 'AI', 'AI', 'AI', 'AI', 'AI', 'AI', 'AI', 'AI', 'AI', 'AI', 'AI', 'AI', 'AI', 'AI', 'AI', 'AI', 'AI', 'AI', 'AI', 'AI', 'AI', 'AI', 'AI', 'AI', 'AI', 'AI', 'AI', 'AI', 'AI', 'AI', 'AI', 'AI', 'AI', 'AI', 'AI', 'AI', 'AI', 'AI', 'AI', 'AI', 'AI', 'AI', 'AI', 'AI', 'AI', 'AI', 'AI', 'AI', 'AI', 'AI', 'AI', 'AI', 'AI', 'AI', 'AI', 'AI', 'AI', 'AI', 'AI', 'AI', 'AI', 'AI', 'STUDENT', 'STUDENT', 'STUDENT', 'STUDENT', 'STUDENT', 'STUDENT', 'STUDENT', 'STUDENT', 'STUDENT', 'STUDENT', 'STUDENT', 'STUDENT', 'STUDENT', 'STUDENT', 'STUDENT', 'STUDENT', 'STUDENT', 'STUDENT', 'STUDENT', 'STUDENT', 'STUDENT', 'STUDENT', 'STUDENT', 'STUDENT', 'STUDENT', 'STUDENT', 'STUDENT', 'STUDENT', 'STUDENT', 'STUDENT', 'STUDENT', 'STUDENT', 'STUDENT', 'STUDENT', 'STUDENT', 'STUDENT', 'STUDENT', 'STUDENT', 'STUDENT', 'STUDENT', 'STUDENT', 'STUDENT', 'STUDENT', 'STUDENT', 'STUDENT', 'STUDENT', 'STUDENT', 'STUDENT', 'STUDENT', 'STUDENT', 'STUDENT', 'STUDENT', 'STUDENT', 'STUDENT', 'STUDENT', 'STUDENT', 'STUDENT', 'STUDENT', 'STUDENT', 'STUDENT', 'STUDENT', 'STUDENT', 'STUDENT', 'STUDENT', 'STUDENT', 'STUDENT', 'STUDENT', 'STUDENT', 'STUDENT', 'STUDENT', 'STUDENT', 'STUDENT', 'STUDENT', 'STUDENT', 'STUDENT', 'STUDENT', 'STUDENT', 'STUDENT', 'STUDENT', 'STUDENT', 'STUDENT', 'STUDENT', 'STUDENT', 'STUDENT', 'STUDENT', 'STUDENT', 'STUDENT', 'STUDENT', 'STUDENT', 'STUDENT', 'STUDENT', 'STUDENT', 'STUDENT', 'STUDENT', 'STUDENT', 'STUDENT', 'STUDENT', 'STUDENT', 'STUDENT', 'STUDENT', 'STUDENT', 'STUDENT', 'STUDENT', 'STUDENT', 'STUDENT', 'STUDENT', 'STUDENT', 'STUDENT', 'STUDENT', 'STUDENT', 'STUDENT', 'STUDENT', 'STUDENT', 'STUDENT', 'STUDENT', 'STUDENT', 'STUDENT', 'STUDENT', 'STUDENT', 'STUDENT', 'STUDENT', 'STUDENT', 'STUDENT', 'STUDENT', 'STUDENT', 'STUDENT', 'STUDENT', 'STUDENT', 'STUDENT', 'STUDENT', 'STUDENT', 'STUDENT', 'STUDENT', 'STUDENT', 'STUDENT', 'STUDENT', 'STUDENT', 'STUDENT', 'STUDENT', 'STUDENT', 'STUDENT', 'STUDENT', 'STUDENT', 'STUDENT', 'STUDENT', 'STUDENT', 'STUDENT', 'STUDENT', 'STUDENT', 'STUDENT', 'STUDENT', 'STUDENT', 'STUDENT', 'STUDENT', 'STUDENT', 'STUDENT', 'STUDENT', 'STUDENT', 'STUDENT', 'STUDENT', 'STUDENT', 'STUDENT', 'STUDENT', 'STUDENT', 'STUDENT', 'STUDENT', 'STUDENT', 'STUDENT', 'STUDENT', 'STUDENT', 'STUDENT', 'STUDENT', 'STUDENT', 'STUDENT', 'STUDENT', 'STUDENT', 'STUDENT', 'STUDENT', 'STUDENT', 'STUDENT', 'STUDENT', 'STUDENT', 'STUDENT', 'STUDENT', 'STUDENT', 'STUDENT', 'STUDENT', 'STUDENT', 'STUDENT', 'STUDENT', 'STUDENT', 'STUDENT', 'STUDENT', 'STUDENT', 'STUDENT', 'STUDENT', 'STUDENT', 'STUDENT', 'STUDENT', 'STUDENT', 'STUDENT', 'STUDENT', 'STUDENT', 'STUDENT', 'STUDENT', 'STUDENT', 'STUDENT', 'STUDENT', 'STUDENT', 'STUDENT', 'STUDENT', 'STUDENT', 'STUDENT', 'STUDENT', 'STUDENT', 'STUDENT', 'STUDENT', 'STUDENT', 'STUDENT', 'STUDENT', 'STUDENT', 'STUDENT', 'STUDENT', 'STUDENT', 'STUDENT', 'STUDENT', 'STUDENT', 'STUDENT', 'STUDENT', 'STUDENT', 'STUDENT', 'STUDENT', 'STUDENT', 'STUDENT', 'STUDENT', 'STUDENT', 'STUDENT', 'STUDENT', 'STUDENT', 'STUDENT', 'STUDENT', 'STUDENT', 'STUDENT', 'STUDENT', 'STUDENT', 'STUDENT', 'STUDENT', 'STUDENT', 'STUDENT', 'STUDENT', 'STUDENT', 'STUDENT', 'STUDENT', 'STUDENT', 'STUDENT', 'STUDENT', 'STUDENT', 'STUDENT', 'STUDENT', 'STUDENT', 'STUDENT', 'STUDENT', 'STUDENT', 'STUDENT', 'STUDENT', 'STUDENT', 'STUDENT', 'STUDENT', 'STUDENT', 'STUDENT', 'STUDENT', 'STUDENT', 'STUDENT', 'STUDENT', 'STUDENT', 'STUDENT', 'STUDENT', 'STUDENT', 'STUDENT', 'STUDENT', 'STUDENT', 'STUDENT', 'STUDENT', 'STUDENT', 'STUDENT', 'STUDENT', 'STUDENT', 'STUDENT', 'STUDENT', 'STUDENT', 'STUDENT', 'STUDENT', 'STUDENT', 'STUDENT', 'STUDENT', 'STUDENT', 'STUDENT', 'STUDENT', 'STUDENT', 'STUDENT', 'STUDENT', 'STUDENT', 'STUDENT', 'STUDENT', 'STUDENT', 'STUDENT', 'STUDENT', 'STUDENT', 'STUDENT', 'STUDENT', 'STUDENT', 'STUDENT', 'STUDENT', 'STUDENT', 'STUDENT', 'STUDENT', 'STUDENT', 'STUDENT', 'STUDENT', 'STUDENT', 'STUDENT', 'STUDENT', 'STUDENT', 'STUDENT', 'STUDENT', 'STUDENT', 'STUDENT', 'STUDENT', 'STUDENT', 'STUDENT', 'STUDENT', 'STUDENT', 'STUDENT', 'STUDENT', 'STUDENT', 'STUDENT', 'STUDENT', 'STUDENT', 'STUDENT', 'STUDENT', 'STUDENT', 'STUDENT', 'STUDENT', 'STUDENT', 'STUDENT', 'STUDENT', 'STUDENT', 'STUDENT', 'STUDENT', 'STUDENT', 'STUDENT', 'STUDENT', 'STUDENT', 'STUDENT', 'STUDENT', 'STUDENT', 'STUDENT', 'STUDENT', 'STUDENT', 'STUDENT', 'STUDENT', 'STUDENT', 'STUDENT', 'STUDENT', 'STUDENT', 'STUDENT', 'STUDENT', 'STUDENT', 'STUDENT', 'STUDENT', 'STUDENT', 'STUDENT', 'STUDENT', 'STUDENT', 'STUDENT', 'STUDENT', 'STUDENT', 'STUDENT', 'STUDENT', 'STUDENT', 'STUDENT', 'STUDENT', 'STUDENT', 'STUDENT', 'STUDENT', 'STUDENT', 'STUDENT', 'STUDENT', 'STUDENT', 'STUDENT', 'STUDENT', 'STUDENT', 'STUDENT', 'STUDENT', 'STUDENT', 'STUDENT', 'STUDENT', 'STUDENT', 'STUDENT', 'STUDENT', 'STUDENT', 'STUDENT', 'STUDENT', 'STUDENT', 'STUDENT', 'STUDENT', 'STUDENT', 'STUDENT', 'STUDENT', 'STUDENT', 'STUDENT', 'STUDENT', 'STUDENT', 'STUDENT', 'STUDENT', 'STUDENT', 'STUDENT', 'STUDENT', 'STUDENT', 'STUDENT', 'STUDENT', 'STUDENT', 'STUDENT', 'STUDENT', 'STUDENT', 'STUDENT', 'STUDENT', 'STUDENT', 'STUDENT', 'STUDENT', 'STUDENT', 'STUDENT', 'STUDENT', 'STUDENT', 'STUDENT', 'STUDENT', 'STUDENT', 'STUDENT', 'STUDENT', 'STUDENT', 'STUDENT', 'STUDENT', 'STUDENT', 'STUDENT', 'STUDENT', 'STUDENT', 'STUDENT', 'STUDENT', 'STUDENT', 'STUDENT', 'STUDENT', 'STUDENT', 'STUDENT', 'STUDENT', 'STUDENT', 'STUDENT', 'STUDENT', 'STUDENT', 'STUDENT', 'STUDENT', 'STUDENT', 'STUDENT', 'STUDENT', 'STUDENT', 'STUDENT', 'STUDENT', 'STUDENT', 'STUDENT', 'STUDENT', 'STUDENT', 'STUDENT', 'STUDENT', 'STUDENT', 'STUDENT', 'STUDENT', 'STUDENT', 'STUDENT', 'STUDENT', 'STUDENT', 'STUDENT', 'STUDENT', 'STUDENT', 'STUDENT', 'STUDENT', 'STUDENT']\n"
          ]
        }
      ]
    },
    {
      "cell_type": "code",
      "source": [
        "# convert text into TF-IDF feature vectos\n",
        "vectorizer = TfidfVectorizer()\n",
        "X_train_tfidf = vectorizer.fit_transform(X_train)\n",
        "X_test_tfidf = vectorizer.transform(X_test)\n",
        "\n",
        "# SVM classifier for text classification! initialize and train\n",
        "# SVM is an algorithm that classifies text into various categories based on patterns (in this case AI or student)\n",
        "svm_classifier = SVC(kernel='linear')\n",
        "svm_classifier.fit(X_train_tfidf, y_train)\n",
        "\n",
        "# prediction on the testing set!\n",
        "predictions = svm_classifier.predict(X_test_tfidf)\n",
        "\n",
        "# testing our model\n",
        "# preprocess the text of the new essays (essays are from kaggles llm comp in their train_essays.csv!)\n",
        "# first essay is ai, second essay is student, third essay is student, fourth is ai, fifth is student!\n",
        "testEssays = [\"This essay will analyze, discuss and prove one reason in favor of keeping the Electoral College in the United States for its presidential elections. One of the reasons to keep the electoral college is that it is better for smaller, more rural states to have more influence as opposed to larger metropolitan areas that have large populations. The electors from these states are granted two votes each. Those from larger, more populated areas are granted just one vote each. Smaller states tend to hold significant power because their two votes for president and vice president add up more than the votes of larger states that have many electors. This is because of the split of the electoral votes. Some argue that electors are not bound to vote for the candidate who won the most votes nationally. They do not have to vote for their own state's nominee unless their state has a winner take all system. However, there are states that have adopted laws that force their electors to vote for their state's candidate. It seems that, no matter how, electors are not bound to vote for the candidate who won the most nationally. This is not always the case because of state legislatures who can overrule the electors and vote for the alternative candidate their citizens have selected for them, even if the voter lives in a state without a winner take all system.\",\n",
        "              \"The majority of people use some sort of gas transportation such as a bus or a car. It is a good idea to limit the usage of gas transportation to help save our environment, to help our own health and to save money. Cars are very popular nowaday but are also bad for everyone and for the world we all live in. Limiting car use will be better for all of us. Car usage is extremely bad for our environment. According to the first article in paragraph five a total of about 62 percent of gas emission in our environment iin Europe and the United States are because of cars. That is lot, and to think that limiting the usage of cars or eliminating it will help better the environment and world we live in. As stated in the fourth article in paragraph 29 that every year our environment betters due to less people buying cars and getiing licenses. Health is a big issue everyone faces. The more cars our used the more contaminated the oxygen we breath gets. We can not afort to let the air we breath get contaminated. In the second article throughout the whole reading Robert Duffer the author says that in paris smog is everywere. That fog absorbs all the gas that the cars release. Think about it, that poluted fog is n the air and you can not help breathing it. Once you breath that fog you are putting your health at risk. Every car i money you have to waste out of your pocket. You waste money when you buy the car, when it breaks down, and even everytime the car is low on gas. If you put that all together you are wasting lost of money when you could be saving it and using on other things. In article one in paragraph two in the last sentence the author put how much money is wasted to be able to have a car which is about 40,000. Having a car means getting fines if you do something wrong or improperly as showed in paragraphs 11 and 21. In conclusion, cars are not good for the environment, our health, or for our money. Use cars less or do not use them at all. Everyone needs to end car use. Make a change, it is all up to you.\",\n",
        "              \"Reducing the amount of cars used would benefit the fellow citizens greatly. Limiting car usage would decrease the amount of pollution in the air greatly, because they are among the main causes of emissions into the air among many countries. A better environment for the citizens would arise because the infrastructure of many cities would improve and the people would exercise more, therefore becoming healthier. Also, congestion would dramatically decrease because less people would be on the road which also leads to less car accidents so less people would be getting injured from a car accident. Car emissions all over the world are among the main causes for the air pollution and greenhouse gasses. In cities llike Paris the air pollution rose so much that there was a temporal driving ban on the whole city. This ban eventually cleared the air but if this could happen in one city it is more than likely to happen again in another city. These car emissions are clearly a large part of this air pollution as Elisabeth Rosenthal shows the U.S has a fifty percent of greenhouse gas emissions from the abundant amount of cars. Limiting the car usage would clearly diminish the amount of emissions in the air and prevent these large amounts of smog and pollution to form in the air that the people are breathing. In the city Bogota a carfree day was hosted to promote public transportation, and it had created many benefits to the city's infrastructure. With more money coming in from these public transportation the government has more money to fix and improve upon the city's infrastructure. The sidewalks were fixed, more restaurants were opened, and more people attended parks, and sports centers. If more cities implemented this carfree program for longer than a day the people would be becoming healthier and the environment would be a lot safer with better sidewalks, and better infrastructure in general. Also with these new buildings being created more jobs would naturally also be created therefore unemployment would also be decreasing in the cities that are restricting cars. In Vauban, a city almost no cars, the citizens live happy with a rectangular shape to their city to maintain everything close and a small walk away from almost everything, therefore the infrastructure for the city is clearly well built and no cars are needed. The restriction of cars would also make the roads a lot safer considering there are less cars to crash into or cause accidents. As shown from the Paris ban on cars, congestion had decreased sixty percent from what it was originally. The only people driving would be the conductors of the public transportation vehicles, therefore a majority of the drivers on the streets would be experienced and not be drunk while driving. The decrease in congestion would also lead to a much more efficient mode on transportation from the busses, and they would travel much faster to their destinations. With the restriction of car usage the positive benefits created would immensely improve the living conditions and environment that the citizens live in. With a cleaner environment free of pollution the people would live healthier, infrastructure would improve greatly allowing more jobs to be created as well, and less congestion and car accidents would occur in the cities. The restriction of car ussage would improve the citizen's lives greatly.\",\n",
        "              \"This essay will analyze, discuss and prove one reason in favor of keeping the Electoral College in the United States for its presidential elections. One of the reasons to keep the electoral college is that it is better for smaller, more rural states to have more influence as opposed to larger metropolitan areas that have large populations. The electors from these states are granted two votes each. Those from larger, more populated areas are granted just one vote each. Smaller states tend to hold significant power because their two votes for president and vice president add up more than the votes of larger states that have many electors. This is because of the split of the electoral votes. Some argue that electors are not bound to vote for the candidate who won the most votes nationally. They do not have to vote for their own state's nominee unless their state has a winner take all system. However, there are states that have adopted laws that force their electors to vote for their state's candidate. It seems that, no matter how, electors are not bound to vote for the candidate who won the most nationally. This is not always the case because of state legislatures who can overrule the electors and vote for the alternative candidate their citizens have selected for them, even if the voter lives in a state without a winner take all system.\",\n",
        "              \"Thick clouds of black smoke, and the smell of gasoline fills the air. overtime you breathe it's like your breathing poison. It's in your lungs and you cant get it out. This is our society today. Some people think that this issue is not a big deal, but in fact it is. But where is all this pollution coming from? The answer is simple, cars! Cars are the second leading polluter, in America. What these cars are doing are releasing a poisonous smog into the atmosphere, and we breathe it. Its not only killing us though, oh no. It is killing our one, our only, Earth. We are killing the only thing the human race has to live on, and for what? So we can save a couple minutes to get to work? This needs to stop. Why continue to use cars when their are so many more advantages not to use them? Without cars, or limiting the number of car usage we would save billions of dollars a year, be much more further into technology, and not only be saving lives, but saving our Earth. How much money would you say you spend on gas a week? Doesn't seem like all that much right? Now add the same thing again, and again, and again. By now you are probably in the hundreds. Now picture yourself with all of that in your hand. Thats all the money you have spent on something that is gone in almost an instant. Think about all the things you could buy with that money. Sounds nice right? Well why don't you just make it a reality than? You could save hundreds in hundreds of dollars in as little as one month! You could save even more by not even buying a car! than you'd be saving a ton of money. Plus youd be doing yourself a favor. You dont need to pay for gas, insurance, repairs or even the car. This is what people in not only America are doing but also in Columbia, Bogota, and one of the worlds most beautiful cities in the world, Paris. These people are bettering themselves, and their country. 'All of our world development since world war II has been sentered on the car' In German Suburb, Life Goes On Without Cars. Just think about how much more advanced of a society we could have without cars. So many things could be created that could save lives! A cure for cancer, a solution to end world hunger, new electronics, maybe even ways to reach past the ridges of our galaxy, yet somehow we still put our focus on something that is killing us, and the Earth. Sure theres some cool tech in these new Automobils but, the only reason people by cars are for new features, or better mpg, or as said by Mr. Sivak in The End of Car Culture , 'A car is just a means of getting from A to B', but thats all people really buy new cars, or use them for. If we wernt so focused on cars we would have new, and improved technology, and a lot more life changing discoveries. The Earth is dying. We are killing it, and ourselves. How much gasoline can your tank hold? the real question is how much gasoline can we put into the air we breathe? This smog and pollution is destroying some of the most beautiful scenes on earth. Paris, New York, and Bejing. However the usage of these automobils are not only killing us with pollution, but with auto accidents. So many of Americans have lost their lives due to wrecks, crashes, common stupidity, and deffects in the car itself. Whats even more sad is a lot of the time the person who has lost their life is not even at fault. A lot of times when driving people tend to get stressed out. road rage is a dangerous thing. In fact Heidrun Walter exclaimed his opinion on the subject by saying 'When I had a car I was always tense. I'm much happier this way.' in the article In German Suburb, Life Goes On Without Cars. A very, very effective solution to this problem is to ultimitly rid them from society. A simple distraction, a buzz, beep, ring, or crash, cound end up fatal, to anyone, and everyone who gets behind the wheel. Global warming, cancer, deathes, stress, and injuries, these are all things caused by vehicles. A common thing we all learn at a young age is to eliminate the problem at the source, and change starts with you, the reader, the average civilian can make a higher than life impact on society. Don't under estimate the power each individual holds when making a difference for good. Simple things like car pooling, walking, riding a bike, or public transportation, can all make a difference, for the better. so lets do it! lets make our environment cleaner. Our futures brighter, and our lives safer. Together we can acomplish this! we would have the advantages of saving billions of dollars a year to use for bigger and better things, be much more further into technology, and not only be saving lives, but saving our Earth, on our side.\"]\n",
        "\n",
        "preprocessedTestEssays = [preprocessingText(essay) for essay in testEssays]\n",
        "\n",
        "# preprocessed text -> TF-IDF feature vectors\n",
        "testEssaystfidf = vectorizer.transform(preprocessedTestEssays)\n",
        "\n",
        "# utilize the trained SVM classifier to predict whether new essays are AI or student generated\n",
        "prediction = svm_classifier.predict(testEssaystfidf)\n",
        "\n",
        "# prediction results\n",
        "print(\"NOTE: JUST LIKE ANY OTHER AI DETECTION TOOL, THIS MAY NOT BE 100% ACCURATE\")\n",
        "for essay, label in zip(testEssays, prediction):\n",
        "    print(\"ESSAY:\", essay)\n",
        "    print(\"PREDICTION:\", label)"
      ],
      "metadata": {
        "colab": {
          "base_uri": "https://localhost:8080/"
        },
        "id": "dkPqIA44Mxgw",
        "outputId": "6be2aa1e-01e9-4030-c0a1-8e2ff32d40a7"
      },
      "execution_count": null,
      "outputs": [
        {
          "output_type": "stream",
          "name": "stdout",
          "text": [
            "NOTE: JUST LIKE ANY OTHER AI DETECTION TOOL, THIS MAY NOT BE 100% ACCURATE\n",
            "ESSAY: This essay will analyze, discuss and prove one reason in favor of keeping the Electoral College in the United States for its presidential elections. One of the reasons to keep the electoral college is that it is better for smaller, more rural states to have more influence as opposed to larger metropolitan areas that have large populations. The electors from these states are granted two votes each. Those from larger, more populated areas are granted just one vote each. Smaller states tend to hold significant power because their two votes for president and vice president add up more than the votes of larger states that have many electors. This is because of the split of the electoral votes. Some argue that electors are not bound to vote for the candidate who won the most votes nationally. They do not have to vote for their own state's nominee unless their state has a winner take all system. However, there are states that have adopted laws that force their electors to vote for their state's candidate. It seems that, no matter how, electors are not bound to vote for the candidate who won the most nationally. This is not always the case because of state legislatures who can overrule the electors and vote for the alternative candidate their citizens have selected for them, even if the voter lives in a state without a winner take all system.\n",
            "PREDICTION: AI\n",
            "ESSAY: The majority of people use some sort of gas transportation such as a bus or a car. It is a good idea to limit the usage of gas transportation to help save our environment, to help our own health and to save money. Cars are very popular nowaday but are also bad for everyone and for the world we all live in. Limiting car use will be better for all of us. Car usage is extremely bad for our environment. According to the first article in paragraph five a total of about 62 percent of gas emission in our environment iin Europe and the United States are because of cars. That is lot, and to think that limiting the usage of cars or eliminating it will help better the environment and world we live in. As stated in the fourth article in paragraph 29 that every year our environment betters due to less people buying cars and getiing licenses. Health is a big issue everyone faces. The more cars our used the more contaminated the oxygen we breath gets. We can not afort to let the air we breath get contaminated. In the second article throughout the whole reading Robert Duffer the author says that in paris smog is everywere. That fog absorbs all the gas that the cars release. Think about it, that poluted fog is n the air and you can not help breathing it. Once you breath that fog you are putting your health at risk. Every car i money you have to waste out of your pocket. You waste money when you buy the car, when it breaks down, and even everytime the car is low on gas. If you put that all together you are wasting lost of money when you could be saving it and using on other things. In article one in paragraph two in the last sentence the author put how much money is wasted to be able to have a car which is about 40,000. Having a car means getting fines if you do something wrong or improperly as showed in paragraphs 11 and 21. In conclusion, cars are not good for the environment, our health, or for our money. Use cars less or do not use them at all. Everyone needs to end car use. Make a change, it is all up to you.\n",
            "PREDICTION: STUDENT\n",
            "ESSAY: Reducing the amount of cars used would benefit the fellow citizens greatly. Limiting car usage would decrease the amount of pollution in the air greatly, because they are among the main causes of emissions into the air among many countries. A better environment for the citizens would arise because the infrastructure of many cities would improve and the people would exercise more, therefore becoming healthier. Also, congestion would dramatically decrease because less people would be on the road which also leads to less car accidents so less people would be getting injured from a car accident. Car emissions all over the world are among the main causes for the air pollution and greenhouse gasses. In cities llike Paris the air pollution rose so much that there was a temporal driving ban on the whole city. This ban eventually cleared the air but if this could happen in one city it is more than likely to happen again in another city. These car emissions are clearly a large part of this air pollution as Elisabeth Rosenthal shows the U.S has a fifty percent of greenhouse gas emissions from the abundant amount of cars. Limiting the car usage would clearly diminish the amount of emissions in the air and prevent these large amounts of smog and pollution to form in the air that the people are breathing. In the city Bogota a carfree day was hosted to promote public transportation, and it had created many benefits to the city's infrastructure. With more money coming in from these public transportation the government has more money to fix and improve upon the city's infrastructure. The sidewalks were fixed, more restaurants were opened, and more people attended parks, and sports centers. If more cities implemented this carfree program for longer than a day the people would be becoming healthier and the environment would be a lot safer with better sidewalks, and better infrastructure in general. Also with these new buildings being created more jobs would naturally also be created therefore unemployment would also be decreasing in the cities that are restricting cars. In Vauban, a city almost no cars, the citizens live happy with a rectangular shape to their city to maintain everything close and a small walk away from almost everything, therefore the infrastructure for the city is clearly well built and no cars are needed. The restriction of cars would also make the roads a lot safer considering there are less cars to crash into or cause accidents. As shown from the Paris ban on cars, congestion had decreased sixty percent from what it was originally. The only people driving would be the conductors of the public transportation vehicles, therefore a majority of the drivers on the streets would be experienced and not be drunk while driving. The decrease in congestion would also lead to a much more efficient mode on transportation from the busses, and they would travel much faster to their destinations. With the restriction of car usage the positive benefits created would immensely improve the living conditions and environment that the citizens live in. With a cleaner environment free of pollution the people would live healthier, infrastructure would improve greatly allowing more jobs to be created as well, and less congestion and car accidents would occur in the cities. The restriction of car ussage would improve the citizen's lives greatly.\n",
            "PREDICTION: STUDENT\n",
            "ESSAY: This essay will analyze, discuss and prove one reason in favor of keeping the Electoral College in the United States for its presidential elections. One of the reasons to keep the electoral college is that it is better for smaller, more rural states to have more influence as opposed to larger metropolitan areas that have large populations. The electors from these states are granted two votes each. Those from larger, more populated areas are granted just one vote each. Smaller states tend to hold significant power because their two votes for president and vice president add up more than the votes of larger states that have many electors. This is because of the split of the electoral votes. Some argue that electors are not bound to vote for the candidate who won the most votes nationally. They do not have to vote for their own state's nominee unless their state has a winner take all system. However, there are states that have adopted laws that force their electors to vote for their state's candidate. It seems that, no matter how, electors are not bound to vote for the candidate who won the most nationally. This is not always the case because of state legislatures who can overrule the electors and vote for the alternative candidate their citizens have selected for them, even if the voter lives in a state without a winner take all system.\n",
            "PREDICTION: AI\n",
            "ESSAY: Thick clouds of black smoke, and the smell of gasoline fills the air. overtime you breathe it's like your breathing poison. It's in your lungs and you cant get it out. This is our society today. Some people think that this issue is not a big deal, but in fact it is. But where is all this pollution coming from? The answer is simple, cars! Cars are the second leading polluter, in America. What these cars are doing are releasing a poisonous smog into the atmosphere, and we breathe it. Its not only killing us though, oh no. It is killing our one, our only, Earth. We are killing the only thing the human race has to live on, and for what? So we can save a couple minutes to get to work? This needs to stop. Why continue to use cars when their are so many more advantages not to use them? Without cars, or limiting the number of car usage we would save billions of dollars a year, be much more further into technology, and not only be saving lives, but saving our Earth. How much money would you say you spend on gas a week? Doesn't seem like all that much right? Now add the same thing again, and again, and again. By now you are probably in the hundreds. Now picture yourself with all of that in your hand. Thats all the money you have spent on something that is gone in almost an instant. Think about all the things you could buy with that money. Sounds nice right? Well why don't you just make it a reality than? You could save hundreds in hundreds of dollars in as little as one month! You could save even more by not even buying a car! than you'd be saving a ton of money. Plus youd be doing yourself a favor. You dont need to pay for gas, insurance, repairs or even the car. This is what people in not only America are doing but also in Columbia, Bogota, and one of the worlds most beautiful cities in the world, Paris. These people are bettering themselves, and their country. 'All of our world development since world war II has been sentered on the car' In German Suburb, Life Goes On Without Cars. Just think about how much more advanced of a society we could have without cars. So many things could be created that could save lives! A cure for cancer, a solution to end world hunger, new electronics, maybe even ways to reach past the ridges of our galaxy, yet somehow we still put our focus on something that is killing us, and the Earth. Sure theres some cool tech in these new Automobils but, the only reason people by cars are for new features, or better mpg, or as said by Mr. Sivak in The End of Car Culture , 'A car is just a means of getting from A to B', but thats all people really buy new cars, or use them for. If we wernt so focused on cars we would have new, and improved technology, and a lot more life changing discoveries. The Earth is dying. We are killing it, and ourselves. How much gasoline can your tank hold? the real question is how much gasoline can we put into the air we breathe? This smog and pollution is destroying some of the most beautiful scenes on earth. Paris, New York, and Bejing. However the usage of these automobils are not only killing us with pollution, but with auto accidents. So many of Americans have lost their lives due to wrecks, crashes, common stupidity, and deffects in the car itself. Whats even more sad is a lot of the time the person who has lost their life is not even at fault. A lot of times when driving people tend to get stressed out. road rage is a dangerous thing. In fact Heidrun Walter exclaimed his opinion on the subject by saying 'When I had a car I was always tense. I'm much happier this way.' in the article In German Suburb, Life Goes On Without Cars. A very, very effective solution to this problem is to ultimitly rid them from society. A simple distraction, a buzz, beep, ring, or crash, cound end up fatal, to anyone, and everyone who gets behind the wheel. Global warming, cancer, deathes, stress, and injuries, these are all things caused by vehicles. A common thing we all learn at a young age is to eliminate the problem at the source, and change starts with you, the reader, the average civilian can make a higher than life impact on society. Don't under estimate the power each individual holds when making a difference for good. Simple things like car pooling, walking, riding a bike, or public transportation, can all make a difference, for the better. so lets do it! lets make our environment cleaner. Our futures brighter, and our lives safer. Together we can acomplish this! we would have the advantages of saving billions of dollars a year to use for bigger and better things, be much more further into technology, and not only be saving lives, but saving our Earth, on our side.\n",
            "PREDICTION: STUDENT\n"
          ]
        }
      ]
    }
  ]
}